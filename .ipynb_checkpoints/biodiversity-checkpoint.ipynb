{
 "cells": [
  {
   "cell_type": "markdown",
   "metadata": {},
   "source": [
    "# Biodiversity in National Parks\n",
    "## Codecademy Data Scientist Path\n",
    "## 13.1.1 Biodiversity in National Parks Portfolio Project"
   ]
  },
  {
   "cell_type": "markdown",
   "metadata": {},
   "source": [
    "## Introduction\n",
    "\n",
    "The goal of this project is to interpret data from the National Parks Service about endangered species in different parks, particularly around the conservation statuses of these species and investigate if there are any patterns or themes to the types of species that become endangered.\n",
    "\n",
    "This project scopes, analyzes, prepares, plots data, and seeks to explain the findings from the analysis.\n",
    "\n",
    "Here are a few questions that this project seeks to answer:\n",
    "\n",
    "1. What is the distribution of conservation status for species?\n",
    "2. Are certain types of species more likely to be endangered?\n",
    "3. Are the differences between species and its conservation status significant?\n",
    "4. Which animal is most prevalent, and what is its distribution amongst parks?\n",
    "5. Which plant is most prevalent, and what is its distribution amongst parks?\n",
    "6. Do certain parks have higher proportions of species with a conservation status?\n",
    "\n",
    "**Data sources:**\n",
    "\n",
    "Both `observations.csv` and `species_info.csv` were provided by [Codecademy.com](https://www.codecademy.com).\n",
    "\n",
    "Note: The data for this project is *inspired* by real data, but is mostly fictional."
   ]
  },
  {
   "cell_type": "markdown",
   "metadata": {},
   "source": [
    "## Scoping\n",
    "\n",
    "It is beneficial to create a project scope whenever a new project is being started.  The scoping process for this project is based on the University of Chicago's [Data Science Project Scoping Guide](http://www.datasciencepublicpolicy.org/home/resources/data-science-project-scoping-guide/).  In accordance with this guide, the four sections below help guide the project's process and progress.  In the first section, we define the project's goals, including the high-level objectives and intentions for this project.  The next section is the data.  Fortunately, for this project, the relevant data is already provided; however, it still must be checked whether project goals can be met with the available data. We must also provide a thorough analysis of the methods and questions that are aligned with the project goals.  Finally, an evaluation of our project helps us draw conclusions and state findings from our analysis.\n",
    "\n",
    "### Project Goals\n",
    "\n",
    "In this project, we take the perspective of a biodiversity analyst for the National Parks Service.  NPS wants to ensure the survival of at-risk species in order to maintain the level of biodiversity within their parks.  Therefore, the main objectives as an analyst are to understand the characteristics of the various species, their respective conservation statuses, and their relationship to the national parks.  Some questions we pose include:\n",
    "\n",
    "1. What is the distribution of conservation status for species?\n",
    "2. Are certain types of species more likely to be endangered?\n",
    "3. Are the differences between species and its conservation status significant?\n",
    "4. Which animal is most prevalent, and what is its distribution amongst parks?\n",
    "5. Which plant is most prevalent, and what is its distribution amongst parks?\n",
    "6. Do certain parks have higher proportions of species with a conservation status?\n",
    "\n",
    "### Data\n",
    "\n",
    "This project has two data sets that came with the package. The first `csv` file has information about each species, and the other has observations of species with park locations.  We will use this data to analyze the goals of the project. \n",
    "\n",
    "### Analysis\n",
    "\n",
    "In this section, we employ descriptive statistics and data visualization techniques to better understand the data.  We also use statistical inference to test whether the observed values are statistically significant.  Some of the key metrics that we compute include: \n",
    "\n",
    "1. Distributions,\n",
    "2. counts,\n",
    "3. relationship between species,\n",
    "4. conservation status of species, and\n",
    "5. observations of species in parks. \n",
    "\n",
    "### Evaluation\n",
    "\n",
    "Lastly, it is a good idea to revisit the original goals and check whether the output of the analysis corresponds to the questions first set forth (in the goals section).  This section also reflects on what was learned through the process and whether any of the questions were unable to be answered.  The section could also include limitations to analysis or whether any of the analysis could have been done using different methodologies."
   ]
  },
  {
   "cell_type": "markdown",
   "metadata": {},
   "source": [
    "## Import Python Modules\n",
    "\n",
    "First, import the primary modules necessary for this project:"
   ]
  },
  {
   "cell_type": "code",
   "execution_count": 1,
   "metadata": {},
   "outputs": [],
   "source": [
    "import pandas as pd\n",
    "import numpy as np\n",
    "from scipy.stats import chi2_contingency as chi_square\n",
    "\n",
    "from matplotlib import pyplot as plt\n",
    "import seaborn as sns\n",
    "\n",
    "from itertools import chain\n",
    "import string"
   ]
  },
  {
   "cell_type": "markdown",
   "metadata": {},
   "source": [
    "## Load the Data\n",
    "\n",
    "To analyze the status of conservation of species and their observations in national parks, load the datasets into `DataFrames`.  Once loaded as `DataFrames` the data can be explored and visualized with Python.\n",
    "\n",
    "The project package contains two CSV files:\n",
    "\n",
    "`species_info.csv` - contains data about different species and their conservation status.  This dataset has the following columns of data:\n",
    "- **category** - the class of animal (the definition of class is not rigorous)\n",
    "- **scientific_name** - the scientific name of each species\n",
    "- **common_name** - the common names of each species\n",
    "- **conservation_status** - each species’ current conservation status\n",
    "\n",
    "`observations.csv` - holds recorded sightings of different species at several national parks for the past seven days.  This dataset has the following columns of data:\n",
    "- **scientific_name** - the scientific name of each species\n",
    "- **park_name** - the park where each species was found\n",
    "- **observations** - the number of times each species was observed at the park\n",
    "\n",
    "In the next steps, we read in `observations.csv` and `species_info.csv` as DataFrames called `observations` and `species`, respectively. Then, we check the contents of each newly created DataFrames with `.head()`."
   ]
  },
  {
   "cell_type": "code",
   "execution_count": 2,
   "metadata": {},
   "outputs": [
    {
     "data": {
      "text/html": [
       "<div>\n",
       "<style scoped>\n",
       "    .dataframe tbody tr th:only-of-type {\n",
       "        vertical-align: middle;\n",
       "    }\n",
       "\n",
       "    .dataframe tbody tr th {\n",
       "        vertical-align: top;\n",
       "    }\n",
       "\n",
       "    .dataframe thead th {\n",
       "        text-align: right;\n",
       "    }\n",
       "</style>\n",
       "<table border=\"1\" class=\"dataframe\">\n",
       "  <thead>\n",
       "    <tr style=\"text-align: right;\">\n",
       "      <th></th>\n",
       "      <th>scientific_name</th>\n",
       "      <th>park_name</th>\n",
       "      <th>observations</th>\n",
       "    </tr>\n",
       "  </thead>\n",
       "  <tbody>\n",
       "    <tr>\n",
       "      <th>0</th>\n",
       "      <td>Vicia benghalensis</td>\n",
       "      <td>Great Smoky Mountains National Park</td>\n",
       "      <td>68</td>\n",
       "    </tr>\n",
       "    <tr>\n",
       "      <th>1</th>\n",
       "      <td>Neovison vison</td>\n",
       "      <td>Great Smoky Mountains National Park</td>\n",
       "      <td>77</td>\n",
       "    </tr>\n",
       "    <tr>\n",
       "      <th>2</th>\n",
       "      <td>Prunus subcordata</td>\n",
       "      <td>Yosemite National Park</td>\n",
       "      <td>138</td>\n",
       "    </tr>\n",
       "    <tr>\n",
       "      <th>3</th>\n",
       "      <td>Abutilon theophrasti</td>\n",
       "      <td>Bryce National Park</td>\n",
       "      <td>84</td>\n",
       "    </tr>\n",
       "    <tr>\n",
       "      <th>4</th>\n",
       "      <td>Githopsis specularioides</td>\n",
       "      <td>Great Smoky Mountains National Park</td>\n",
       "      <td>85</td>\n",
       "    </tr>\n",
       "  </tbody>\n",
       "</table>\n",
       "</div>"
      ],
      "text/plain": [
       "            scientific_name                            park_name  observations\n",
       "0        Vicia benghalensis  Great Smoky Mountains National Park            68\n",
       "1            Neovison vison  Great Smoky Mountains National Park            77\n",
       "2         Prunus subcordata               Yosemite National Park           138\n",
       "3      Abutilon theophrasti                  Bryce National Park            84\n",
       "4  Githopsis specularioides  Great Smoky Mountains National Park            85"
      ]
     },
     "execution_count": 2,
     "metadata": {},
     "output_type": "execute_result"
    }
   ],
   "source": [
    "observations = pd.read_csv('observations.csv', encoding='utf-8')\n",
    "observations.head()"
   ]
  },
  {
   "cell_type": "code",
   "execution_count": 3,
   "metadata": {},
   "outputs": [
    {
     "data": {
      "text/html": [
       "<div>\n",
       "<style scoped>\n",
       "    .dataframe tbody tr th:only-of-type {\n",
       "        vertical-align: middle;\n",
       "    }\n",
       "\n",
       "    .dataframe tbody tr th {\n",
       "        vertical-align: top;\n",
       "    }\n",
       "\n",
       "    .dataframe thead th {\n",
       "        text-align: right;\n",
       "    }\n",
       "</style>\n",
       "<table border=\"1\" class=\"dataframe\">\n",
       "  <thead>\n",
       "    <tr style=\"text-align: right;\">\n",
       "      <th></th>\n",
       "      <th>category</th>\n",
       "      <th>scientific_name</th>\n",
       "      <th>common_names</th>\n",
       "      <th>conservation_status</th>\n",
       "    </tr>\n",
       "  </thead>\n",
       "  <tbody>\n",
       "    <tr>\n",
       "      <th>0</th>\n",
       "      <td>Mammal</td>\n",
       "      <td>Clethrionomys gapperi gapperi</td>\n",
       "      <td>Gapper's Red-Backed Vole</td>\n",
       "      <td>NaN</td>\n",
       "    </tr>\n",
       "    <tr>\n",
       "      <th>1</th>\n",
       "      <td>Mammal</td>\n",
       "      <td>Bos bison</td>\n",
       "      <td>American Bison, Bison</td>\n",
       "      <td>NaN</td>\n",
       "    </tr>\n",
       "    <tr>\n",
       "      <th>2</th>\n",
       "      <td>Mammal</td>\n",
       "      <td>Bos taurus</td>\n",
       "      <td>Aurochs, Aurochs, Domestic Cattle (Feral), Dom...</td>\n",
       "      <td>NaN</td>\n",
       "    </tr>\n",
       "    <tr>\n",
       "      <th>3</th>\n",
       "      <td>Mammal</td>\n",
       "      <td>Ovis aries</td>\n",
       "      <td>Domestic Sheep, Mouflon, Red Sheep, Sheep (Feral)</td>\n",
       "      <td>NaN</td>\n",
       "    </tr>\n",
       "    <tr>\n",
       "      <th>4</th>\n",
       "      <td>Mammal</td>\n",
       "      <td>Cervus elaphus</td>\n",
       "      <td>Wapiti Or Elk</td>\n",
       "      <td>NaN</td>\n",
       "    </tr>\n",
       "  </tbody>\n",
       "</table>\n",
       "</div>"
      ],
      "text/plain": [
       "  category                scientific_name  \\\n",
       "0   Mammal  Clethrionomys gapperi gapperi   \n",
       "1   Mammal                      Bos bison   \n",
       "2   Mammal                     Bos taurus   \n",
       "3   Mammal                     Ovis aries   \n",
       "4   Mammal                 Cervus elaphus   \n",
       "\n",
       "                                        common_names conservation_status  \n",
       "0                           Gapper's Red-Backed Vole                 NaN  \n",
       "1                              American Bison, Bison                 NaN  \n",
       "2  Aurochs, Aurochs, Domestic Cattle (Feral), Dom...                 NaN  \n",
       "3  Domestic Sheep, Mouflon, Red Sheep, Sheep (Feral)                 NaN  \n",
       "4                                      Wapiti Or Elk                 NaN  "
      ]
     },
     "execution_count": 3,
     "metadata": {},
     "output_type": "execute_result"
    }
   ],
   "source": [
    "species = pd.read_csv('species_info.csv', encoding='utf-8')\n",
    "species.head()"
   ]
  },
  {
   "cell_type": "markdown",
   "metadata": {},
   "source": [
    "#### Data Characteristics\n",
    "\n",
    "Next, we inspect the dimensions of each DataFrame with `.shape`."
   ]
  },
  {
   "cell_type": "code",
   "execution_count": 4,
   "metadata": {},
   "outputs": [
    {
     "name": "stdout",
     "output_type": "stream",
     "text": [
      "Shape of observations: (23296, 3)\n",
      "Shape of species: (5824, 4)\n"
     ]
    }
   ],
   "source": [
    "print('Shape of observations: {}'.format(observations.shape))\n",
    "print('Shape of species: {}'.format(species.shape))"
   ]
  },
  {
   "cell_type": "markdown",
   "metadata": {},
   "source": [
    "The `observations` DataFrame has 23,296 rows and 3 columns, while the `species` DataFrame has 5,824 rows with 4 columns."
   ]
  },
  {
   "cell_type": "markdown",
   "metadata": {},
   "source": [
    "## Explore the Data\n",
    "\n",
    "Now, we can explore the `observations` data more in depth.  First, we will use the `park_name` column to find the number of distinct parks in the data."
   ]
  },
  {
   "cell_type": "code",
   "execution_count": 5,
   "metadata": {},
   "outputs": [
    {
     "name": "stdout",
     "output_type": "stream",
     "text": [
      "Number of parks: 4\n",
      "Parks: ['Great Smoky Mountains National Park', 'Yosemite National Park', 'Bryce National Park', 'Yellowstone National Park']\n"
     ]
    }
   ],
   "source": [
    "print('Number of parks: {}'.format(observations.park_name.nunique()))\n",
    "print('Parks: {}'.format(observations.park_name.unique().tolist()))"
   ]
  },
  {
   "cell_type": "markdown",
   "metadata": {},
   "source": [
    "There are only four of the 62 national parks in this dataset.\n",
    "\n",
    "We can also check the number of unique species by using the `scientific_name` column."
   ]
  },
  {
   "cell_type": "code",
   "execution_count": 6,
   "metadata": {},
   "outputs": [
    {
     "name": "stdout",
     "output_type": "stream",
     "text": [
      "Number of species observed: 5541\n"
     ]
    }
   ],
   "source": [
    "print('Number of species observed: {}'.format(observations.scientific_name.nunique()))"
   ]
  },
  {
   "cell_type": "markdown",
   "metadata": {},
   "source": [
    "There are 5,541 distinct species observed in this dataset.  Later, we will compare this number to the number of distinct species in the `species` dataset.\n",
    "\n",
    "Finally, we should find the total number of observations by summing the `observations` row."
   ]
  },
  {
   "cell_type": "code",
   "execution_count": 7,
   "metadata": {},
   "outputs": [
    {
     "name": "stdout",
     "output_type": "stream",
     "text": [
      "Total number of observations: 3314739\n"
     ]
    }
   ],
   "source": [
    "print('Total number of observations: {}'.format(observations.observations.sum()))"
   ]
  },
  {
   "cell_type": "markdown",
   "metadata": {},
   "source": [
    "In the past seven days, the parks logged a whopping 3,314,739 sightings!"
   ]
  },
  {
   "cell_type": "markdown",
   "metadata": {},
   "source": [
    "Now, we can explore the `species` dataset.  We can use the `scientific_name` column to get the distinct number of species."
   ]
  },
  {
   "cell_type": "code",
   "execution_count": 8,
   "metadata": {},
   "outputs": [
    {
     "name": "stdout",
     "output_type": "stream",
     "text": [
      "Number of species: 5541\n"
     ]
    }
   ],
   "source": [
    "print('Number of species: {}'.format(species.scientific_name.nunique()))"
   ]
  },
  {
   "cell_type": "markdown",
   "metadata": {},
   "source": [
    "The `species` dataset contains 5,541 unique species.  This is the same number as the `observations` dataset.\n",
    "\n",
    "Next, we can find the number of distinct classes by using the `category` column."
   ]
  },
  {
   "cell_type": "code",
   "execution_count": 9,
   "metadata": {},
   "outputs": [
    {
     "name": "stdout",
     "output_type": "stream",
     "text": [
      "Number of classes: 7\n",
      "Classes: ['Mammal', 'Bird', 'Reptile', 'Amphibian', 'Fish', 'Vascular Plant', 'Nonvascular Plant']\n"
     ]
    }
   ],
   "source": [
    "print('Number of classes: {}'.format(species.category.nunique()))\n",
    "print('Classes: {}'.format(species.category.unique().tolist()))"
   ]
  },
  {
   "cell_type": "code",
   "execution_count": 10,
   "metadata": {},
   "outputs": [
    {
     "data": {
      "text/plain": [
       "array(['Great Smoky Mountains National Park', 'Yosemite National Park',\n",
       "       'Bryce National Park', 'Yellowstone National Park'], dtype=object)"
      ]
     },
     "execution_count": 10,
     "metadata": {},
     "output_type": "execute_result"
    }
   ],
   "source": [
    "observations.park_name.unique()"
   ]
  },
  {
   "cell_type": "markdown",
   "metadata": {},
   "source": [
    "Here, we see that there are seven different classes of species, including both animals and plants.\n",
    "\n",
    "We can dive a little deeper and see the counts of each `category` in the dataset."
   ]
  },
  {
   "cell_type": "code",
   "execution_count": 11,
   "metadata": {},
   "outputs": [
    {
     "data": {
      "text/html": [
       "<div>\n",
       "<style scoped>\n",
       "    .dataframe tbody tr th:only-of-type {\n",
       "        vertical-align: middle;\n",
       "    }\n",
       "\n",
       "    .dataframe tbody tr th {\n",
       "        vertical-align: top;\n",
       "    }\n",
       "\n",
       "    .dataframe thead th {\n",
       "        text-align: right;\n",
       "    }\n",
       "</style>\n",
       "<table border=\"1\" class=\"dataframe\">\n",
       "  <thead>\n",
       "    <tr style=\"text-align: right;\">\n",
       "      <th></th>\n",
       "      <th>category</th>\n",
       "      <th>count</th>\n",
       "    </tr>\n",
       "  </thead>\n",
       "  <tbody>\n",
       "    <tr>\n",
       "      <th>0</th>\n",
       "      <td>Vascular Plant</td>\n",
       "      <td>4470</td>\n",
       "    </tr>\n",
       "    <tr>\n",
       "      <th>1</th>\n",
       "      <td>Bird</td>\n",
       "      <td>521</td>\n",
       "    </tr>\n",
       "    <tr>\n",
       "      <th>2</th>\n",
       "      <td>Nonvascular Plant</td>\n",
       "      <td>333</td>\n",
       "    </tr>\n",
       "    <tr>\n",
       "      <th>3</th>\n",
       "      <td>Mammal</td>\n",
       "      <td>214</td>\n",
       "    </tr>\n",
       "    <tr>\n",
       "      <th>4</th>\n",
       "      <td>Fish</td>\n",
       "      <td>127</td>\n",
       "    </tr>\n",
       "    <tr>\n",
       "      <th>5</th>\n",
       "      <td>Amphibian</td>\n",
       "      <td>80</td>\n",
       "    </tr>\n",
       "    <tr>\n",
       "      <th>6</th>\n",
       "      <td>Reptile</td>\n",
       "      <td>79</td>\n",
       "    </tr>\n",
       "  </tbody>\n",
       "</table>\n",
       "</div>"
      ],
      "text/plain": [
       "            category  count\n",
       "0     Vascular Plant   4470\n",
       "1               Bird    521\n",
       "2  Nonvascular Plant    333\n",
       "3             Mammal    214\n",
       "4               Fish    127\n",
       "5          Amphibian     80\n",
       "6            Reptile     79"
      ]
     },
     "execution_count": 11,
     "metadata": {},
     "output_type": "execute_result"
    }
   ],
   "source": [
    "species[['category', 'scientific_name']].groupby(\"category\").count().rename(columns={'scientific_name': 'count'}).sort_values('count', ascending=False).reset_index()"
   ]
  },
  {
   "cell_type": "markdown",
   "metadata": {},
   "source": [
    "Vascular plants have by far the largest share of species with 4,470, while reptiles are the fewest with 79.\n",
    "\n",
    "Another column we can explore is `conservation_status`."
   ]
  },
  {
   "cell_type": "code",
   "execution_count": 12,
   "metadata": {},
   "outputs": [
    {
     "name": "stdout",
     "output_type": "stream",
     "text": [
      "Number of conservation statuses: 4\n",
      "Conservation statuses: [nan, 'Species of Concern', 'Endangered', 'Threatened', 'In Recovery']\n"
     ]
    }
   ],
   "source": [
    "print('Number of conservation statuses: {}'.format(species.conservation_status.nunique()))\n",
    "print('Conservation statuses: {}'.format(species.conservation_status.unique().tolist()))"
   ]
  },
  {
   "cell_type": "markdown",
   "metadata": {},
   "source": [
    "The column has 4 categories:  Species of Concern, Endangered, Threatened, and In Recovery, as well as `nan` values.\n",
    "\n",
    "The `conservation_status` column has several possible values:\n",
    "- `'Species of Concern'`: declining or appear to be in need of conservation\n",
    "- `'Threatened'`: vulnerable to endangerment in the near future\n",
    "- `'Endangered'`: seriously at risk of extinction\n",
    "- `'In Recovery'`: formerly `Endangered`, but currently neither in danger of extinction throughout all or a significant portion of its range\n",
    "\n",
    "Let's clean the `conservation_status` column to replace the `nan` values with `'No Intervention'` to indicate that these species have no conservation status.\n",
    "\n",
    "Note:  In most cases coming across `nan` values must be treated carefully, but the absence of data here means that these species are not under any conservation status."
   ]
  },
  {
   "cell_type": "code",
   "execution_count": 13,
   "metadata": {},
   "outputs": [
    {
     "data": {
      "text/html": [
       "<div>\n",
       "<style scoped>\n",
       "    .dataframe tbody tr th:only-of-type {\n",
       "        vertical-align: middle;\n",
       "    }\n",
       "\n",
       "    .dataframe tbody tr th {\n",
       "        vertical-align: top;\n",
       "    }\n",
       "\n",
       "    .dataframe thead th {\n",
       "        text-align: right;\n",
       "    }\n",
       "</style>\n",
       "<table border=\"1\" class=\"dataframe\">\n",
       "  <thead>\n",
       "    <tr style=\"text-align: right;\">\n",
       "      <th></th>\n",
       "      <th>category</th>\n",
       "      <th>scientific_name</th>\n",
       "      <th>common_names</th>\n",
       "      <th>conservation_status</th>\n",
       "    </tr>\n",
       "  </thead>\n",
       "  <tbody>\n",
       "    <tr>\n",
       "      <th>0</th>\n",
       "      <td>Mammal</td>\n",
       "      <td>Clethrionomys gapperi gapperi</td>\n",
       "      <td>Gapper's Red-Backed Vole</td>\n",
       "      <td>No Intervention</td>\n",
       "    </tr>\n",
       "    <tr>\n",
       "      <th>1</th>\n",
       "      <td>Mammal</td>\n",
       "      <td>Bos bison</td>\n",
       "      <td>American Bison, Bison</td>\n",
       "      <td>No Intervention</td>\n",
       "    </tr>\n",
       "    <tr>\n",
       "      <th>2</th>\n",
       "      <td>Mammal</td>\n",
       "      <td>Bos taurus</td>\n",
       "      <td>Aurochs, Aurochs, Domestic Cattle (Feral), Dom...</td>\n",
       "      <td>No Intervention</td>\n",
       "    </tr>\n",
       "    <tr>\n",
       "      <th>3</th>\n",
       "      <td>Mammal</td>\n",
       "      <td>Ovis aries</td>\n",
       "      <td>Domestic Sheep, Mouflon, Red Sheep, Sheep (Feral)</td>\n",
       "      <td>No Intervention</td>\n",
       "    </tr>\n",
       "    <tr>\n",
       "      <th>4</th>\n",
       "      <td>Mammal</td>\n",
       "      <td>Cervus elaphus</td>\n",
       "      <td>Wapiti Or Elk</td>\n",
       "      <td>No Intervention</td>\n",
       "    </tr>\n",
       "  </tbody>\n",
       "</table>\n",
       "</div>"
      ],
      "text/plain": [
       "  category                scientific_name  \\\n",
       "0   Mammal  Clethrionomys gapperi gapperi   \n",
       "1   Mammal                      Bos bison   \n",
       "2   Mammal                     Bos taurus   \n",
       "3   Mammal                     Ovis aries   \n",
       "4   Mammal                 Cervus elaphus   \n",
       "\n",
       "                                        common_names conservation_status  \n",
       "0                           Gapper's Red-Backed Vole     No Intervention  \n",
       "1                              American Bison, Bison     No Intervention  \n",
       "2  Aurochs, Aurochs, Domestic Cattle (Feral), Dom...     No Intervention  \n",
       "3  Domestic Sheep, Mouflon, Red Sheep, Sheep (Feral)     No Intervention  \n",
       "4                                      Wapiti Or Elk     No Intervention  "
      ]
     },
     "execution_count": 13,
     "metadata": {},
     "output_type": "execute_result"
    }
   ],
   "source": [
    "species.fillna('No Intervention', inplace=True)\n",
    "\n",
    "species.head()"
   ]
  },
  {
   "cell_type": "code",
   "execution_count": 14,
   "metadata": {},
   "outputs": [
    {
     "data": {
      "text/html": [
       "<div>\n",
       "<style scoped>\n",
       "    .dataframe tbody tr th:only-of-type {\n",
       "        vertical-align: middle;\n",
       "    }\n",
       "\n",
       "    .dataframe tbody tr th {\n",
       "        vertical-align: top;\n",
       "    }\n",
       "\n",
       "    .dataframe thead th {\n",
       "        text-align: right;\n",
       "    }\n",
       "</style>\n",
       "<table border=\"1\" class=\"dataframe\">\n",
       "  <thead>\n",
       "    <tr style=\"text-align: right;\">\n",
       "      <th></th>\n",
       "      <th>conservation_status</th>\n",
       "      <th>count</th>\n",
       "    </tr>\n",
       "  </thead>\n",
       "  <tbody>\n",
       "    <tr>\n",
       "      <th>0</th>\n",
       "      <td>No Intervention</td>\n",
       "      <td>5633</td>\n",
       "    </tr>\n",
       "    <tr>\n",
       "      <th>1</th>\n",
       "      <td>Species of Concern</td>\n",
       "      <td>161</td>\n",
       "    </tr>\n",
       "    <tr>\n",
       "      <th>2</th>\n",
       "      <td>Endangered</td>\n",
       "      <td>16</td>\n",
       "    </tr>\n",
       "    <tr>\n",
       "      <th>3</th>\n",
       "      <td>Threatened</td>\n",
       "      <td>10</td>\n",
       "    </tr>\n",
       "    <tr>\n",
       "      <th>4</th>\n",
       "      <td>In Recovery</td>\n",
       "      <td>4</td>\n",
       "    </tr>\n",
       "  </tbody>\n",
       "</table>\n",
       "</div>"
      ],
      "text/plain": [
       "  conservation_status  count\n",
       "0     No Intervention   5633\n",
       "1  Species of Concern    161\n",
       "2          Endangered     16\n",
       "3          Threatened     10\n",
       "4         In Recovery      4"
      ]
     },
     "execution_count": 14,
     "metadata": {},
     "output_type": "execute_result"
    }
   ],
   "source": [
    "species[['conservation_status', 'scientific_name']].groupby(\"conservation_status\").count().rename(columns={'scientific_name': 'count'}).sort_values('count', ascending=False).reset_index()"
   ]
  },
  {
   "cell_type": "markdown",
   "metadata": {},
   "source": [
    "## Analysis\n",
    "\n",
    "This section analyzes the data after initial exploration."
   ]
  },
  {
   "cell_type": "markdown",
   "metadata": {},
   "source": [
    "#### Distributions\n",
    "\n",
    "To start, we can investigate the different categories that are nested in the `conservation_status` column other than those that do not require an intervention.  There is both a table and chart to explore below.\n",
    "\n",
    "In this section, we try to answer the first question of the project goals:\n",
    "> What is the distribution of conservation status for species?"
   ]
  },
  {
   "cell_type": "code",
   "execution_count": 15,
   "metadata": {},
   "outputs": [
    {
     "data": {
      "text/html": [
       "<div>\n",
       "<style scoped>\n",
       "    .dataframe tbody tr th:only-of-type {\n",
       "        vertical-align: middle;\n",
       "    }\n",
       "\n",
       "    .dataframe tbody tr th {\n",
       "        vertical-align: top;\n",
       "    }\n",
       "\n",
       "    .dataframe thead th {\n",
       "        text-align: right;\n",
       "    }\n",
       "</style>\n",
       "<table border=\"1\" class=\"dataframe\">\n",
       "  <thead>\n",
       "    <tr style=\"text-align: right;\">\n",
       "      <th>category</th>\n",
       "      <th>Amphibian</th>\n",
       "      <th>Bird</th>\n",
       "      <th>Fish</th>\n",
       "      <th>Mammal</th>\n",
       "      <th>Nonvascular Plant</th>\n",
       "      <th>Reptile</th>\n",
       "      <th>Vascular Plant</th>\n",
       "    </tr>\n",
       "    <tr>\n",
       "      <th>conservation_status</th>\n",
       "      <th></th>\n",
       "      <th></th>\n",
       "      <th></th>\n",
       "      <th></th>\n",
       "      <th></th>\n",
       "      <th></th>\n",
       "      <th></th>\n",
       "    </tr>\n",
       "  </thead>\n",
       "  <tbody>\n",
       "    <tr>\n",
       "      <th>Endangered</th>\n",
       "      <td>1.0</td>\n",
       "      <td>4.0</td>\n",
       "      <td>3.0</td>\n",
       "      <td>7.0</td>\n",
       "      <td>NaN</td>\n",
       "      <td>NaN</td>\n",
       "      <td>1.0</td>\n",
       "    </tr>\n",
       "    <tr>\n",
       "      <th>In Recovery</th>\n",
       "      <td>NaN</td>\n",
       "      <td>3.0</td>\n",
       "      <td>NaN</td>\n",
       "      <td>1.0</td>\n",
       "      <td>NaN</td>\n",
       "      <td>NaN</td>\n",
       "      <td>NaN</td>\n",
       "    </tr>\n",
       "    <tr>\n",
       "      <th>Species of Concern</th>\n",
       "      <td>4.0</td>\n",
       "      <td>72.0</td>\n",
       "      <td>4.0</td>\n",
       "      <td>28.0</td>\n",
       "      <td>5.0</td>\n",
       "      <td>5.0</td>\n",
       "      <td>43.0</td>\n",
       "    </tr>\n",
       "    <tr>\n",
       "      <th>Threatened</th>\n",
       "      <td>2.0</td>\n",
       "      <td>NaN</td>\n",
       "      <td>4.0</td>\n",
       "      <td>2.0</td>\n",
       "      <td>NaN</td>\n",
       "      <td>NaN</td>\n",
       "      <td>2.0</td>\n",
       "    </tr>\n",
       "  </tbody>\n",
       "</table>\n",
       "</div>"
      ],
      "text/plain": [
       "category             Amphibian  Bird  Fish  Mammal  Nonvascular Plant  \\\n",
       "conservation_status                                                     \n",
       "Endangered                 1.0   4.0   3.0     7.0                NaN   \n",
       "In Recovery                NaN   3.0   NaN     1.0                NaN   \n",
       "Species of Concern         4.0  72.0   4.0    28.0                5.0   \n",
       "Threatened                 2.0   NaN   4.0     2.0                NaN   \n",
       "\n",
       "category             Reptile  Vascular Plant  \n",
       "conservation_status                           \n",
       "Endangered               NaN             1.0  \n",
       "In Recovery              NaN             NaN  \n",
       "Species of Concern       5.0            43.0  \n",
       "Threatened               NaN             2.0  "
      ]
     },
     "execution_count": 15,
     "metadata": {},
     "output_type": "execute_result"
    }
   ],
   "source": [
    "conservation_categories = species[species.conservation_status != 'No Intervention']\\\n",
    "    .groupby(['conservation_status', 'category'])['scientific_name']\\\n",
    "    .count()\n",
    "\n",
    "conservation_categories.unstack()"
   ]
  },
  {
   "cell_type": "markdown",
   "metadata": {},
   "source": [
    "For those in the `Endangered` status, 7 were mammals and 4 were birds.  For species with `In Recovery` status, there were 3 birds and 1 mammal, which could possibly mean that the birds are bouncing back more than the mammals."
   ]
  },
  {
   "cell_type": "code",
   "execution_count": 16,
   "metadata": {},
   "outputs": [
    {
     "data": {
      "image/png": "[encoded data removed]",
      "text/plain": [
       "<Figure size 720x432 with 1 Axes>"
      ]
     },
     "metadata": {},
     "output_type": "display_data"
    }
   ],
   "source": [
    "sns.set(style='ticks', rc={\"axes.grid\":True}, palette='Set1')\n",
    "\n",
    "ax = conservation_categories.unstack().plot(kind='bar', figsize=(10, 6), stacked=True)\n",
    "\n",
    "ax.set_title('Number of Species by Conservation Status', size=18)\n",
    "ax.set_xlabel('Conservation Status', size=14)\n",
    "ax.set_xticklabels(conservation_categories.reset_index().conservation_status.unique().tolist(), rotation=0)\n",
    "ax.set_ylabel('Number of Species', size=14)\n",
    "ax.legend(title='Category', title_fontsize=14, fontsize=12, shadow=True, loc=2, ncol=2)\n",
    "\n",
    "plt.show()"
   ]
  },
  {
   "cell_type": "markdown",
   "metadata": {},
   "source": [
    "Looking at the chart above, we notice that the conservation status with the most species is `'Species of Concern'` by far, containing mostly birds, mammals, and vascular plants.  On the other hand, the conservation status with the fewest species is `'In Recovery'`."
   ]
  },
  {
   "cell_type": "markdown",
   "metadata": {},
   "source": [
    "#### In Conservation\n",
    "\n",
    "The next section seeks to answer the second question from our project goals:\n",
    "> Are certain types of species more likely to be endangered?\n",
    "\n",
    "We can add a new column to `species` called `is_protected` to differentiate species with and without a conservation status."
   ]
  },
  {
   "cell_type": "code",
   "execution_count": 17,
   "metadata": {},
   "outputs": [
    {
     "data": {
      "text/html": [
       "<div>\n",
       "<style scoped>\n",
       "    .dataframe tbody tr th:only-of-type {\n",
       "        vertical-align: middle;\n",
       "    }\n",
       "\n",
       "    .dataframe tbody tr th {\n",
       "        vertical-align: top;\n",
       "    }\n",
       "\n",
       "    .dataframe thead th {\n",
       "        text-align: right;\n",
       "    }\n",
       "</style>\n",
       "<table border=\"1\" class=\"dataframe\">\n",
       "  <thead>\n",
       "    <tr style=\"text-align: right;\">\n",
       "      <th></th>\n",
       "      <th>category</th>\n",
       "      <th>scientific_name</th>\n",
       "      <th>common_names</th>\n",
       "      <th>conservation_status</th>\n",
       "      <th>is_protected</th>\n",
       "    </tr>\n",
       "  </thead>\n",
       "  <tbody>\n",
       "    <tr>\n",
       "      <th>0</th>\n",
       "      <td>Mammal</td>\n",
       "      <td>Clethrionomys gapperi gapperi</td>\n",
       "      <td>Gapper's Red-Backed Vole</td>\n",
       "      <td>No Intervention</td>\n",
       "      <td>False</td>\n",
       "    </tr>\n",
       "    <tr>\n",
       "      <th>1</th>\n",
       "      <td>Mammal</td>\n",
       "      <td>Bos bison</td>\n",
       "      <td>American Bison, Bison</td>\n",
       "      <td>No Intervention</td>\n",
       "      <td>False</td>\n",
       "    </tr>\n",
       "    <tr>\n",
       "      <th>2</th>\n",
       "      <td>Mammal</td>\n",
       "      <td>Bos taurus</td>\n",
       "      <td>Aurochs, Aurochs, Domestic Cattle (Feral), Dom...</td>\n",
       "      <td>No Intervention</td>\n",
       "      <td>False</td>\n",
       "    </tr>\n",
       "    <tr>\n",
       "      <th>3</th>\n",
       "      <td>Mammal</td>\n",
       "      <td>Ovis aries</td>\n",
       "      <td>Domestic Sheep, Mouflon, Red Sheep, Sheep (Feral)</td>\n",
       "      <td>No Intervention</td>\n",
       "      <td>False</td>\n",
       "    </tr>\n",
       "    <tr>\n",
       "      <th>4</th>\n",
       "      <td>Mammal</td>\n",
       "      <td>Cervus elaphus</td>\n",
       "      <td>Wapiti Or Elk</td>\n",
       "      <td>No Intervention</td>\n",
       "      <td>False</td>\n",
       "    </tr>\n",
       "  </tbody>\n",
       "</table>\n",
       "</div>"
      ],
      "text/plain": [
       "  category                scientific_name  \\\n",
       "0   Mammal  Clethrionomys gapperi gapperi   \n",
       "1   Mammal                      Bos bison   \n",
       "2   Mammal                     Bos taurus   \n",
       "3   Mammal                     Ovis aries   \n",
       "4   Mammal                 Cervus elaphus   \n",
       "\n",
       "                                        common_names conservation_status  \\\n",
       "0                           Gapper's Red-Backed Vole     No Intervention   \n",
       "1                              American Bison, Bison     No Intervention   \n",
       "2  Aurochs, Aurochs, Domestic Cattle (Feral), Dom...     No Intervention   \n",
       "3  Domestic Sheep, Mouflon, Red Sheep, Sheep (Feral)     No Intervention   \n",
       "4                                      Wapiti Or Elk     No Intervention   \n",
       "\n",
       "   is_protected  \n",
       "0         False  \n",
       "1         False  \n",
       "2         False  \n",
       "3         False  \n",
       "4         False  "
      ]
     },
     "execution_count": 17,
     "metadata": {},
     "output_type": "execute_result"
    }
   ],
   "source": [
    "species['is_protected'] = species.conservation_status != 'No Intervention'\n",
    "\n",
    "species.head()"
   ]
  },
  {
   "cell_type": "markdown",
   "metadata": {},
   "source": [
    "Having created the new column, we can now group by `category` and `is_protected` similarly to the procedure in the previous section."
   ]
  },
  {
   "cell_type": "code",
   "execution_count": 18,
   "metadata": {},
   "outputs": [
    {
     "data": {
      "text/html": [
       "<div>\n",
       "<style scoped>\n",
       "    .dataframe tbody tr th:only-of-type {\n",
       "        vertical-align: middle;\n",
       "    }\n",
       "\n",
       "    .dataframe tbody tr th {\n",
       "        vertical-align: top;\n",
       "    }\n",
       "\n",
       "    .dataframe thead th {\n",
       "        text-align: right;\n",
       "    }\n",
       "</style>\n",
       "<table border=\"1\" class=\"dataframe\">\n",
       "  <thead>\n",
       "    <tr style=\"text-align: right;\">\n",
       "      <th></th>\n",
       "      <th>category</th>\n",
       "      <th>not_protected</th>\n",
       "      <th>protected</th>\n",
       "    </tr>\n",
       "  </thead>\n",
       "  <tbody>\n",
       "    <tr>\n",
       "      <th>0</th>\n",
       "      <td>Amphibian</td>\n",
       "      <td>72</td>\n",
       "      <td>7</td>\n",
       "    </tr>\n",
       "    <tr>\n",
       "      <th>1</th>\n",
       "      <td>Bird</td>\n",
       "      <td>413</td>\n",
       "      <td>75</td>\n",
       "    </tr>\n",
       "    <tr>\n",
       "      <th>2</th>\n",
       "      <td>Fish</td>\n",
       "      <td>115</td>\n",
       "      <td>11</td>\n",
       "    </tr>\n",
       "    <tr>\n",
       "      <th>3</th>\n",
       "      <td>Mammal</td>\n",
       "      <td>146</td>\n",
       "      <td>30</td>\n",
       "    </tr>\n",
       "    <tr>\n",
       "      <th>4</th>\n",
       "      <td>Nonvascular Plant</td>\n",
       "      <td>328</td>\n",
       "      <td>5</td>\n",
       "    </tr>\n",
       "    <tr>\n",
       "      <th>5</th>\n",
       "      <td>Reptile</td>\n",
       "      <td>73</td>\n",
       "      <td>5</td>\n",
       "    </tr>\n",
       "    <tr>\n",
       "      <th>6</th>\n",
       "      <td>Vascular Plant</td>\n",
       "      <td>4216</td>\n",
       "      <td>46</td>\n",
       "    </tr>\n",
       "  </tbody>\n",
       "</table>\n",
       "</div>"
      ],
      "text/plain": [
       "            category  not_protected  protected\n",
       "0          Amphibian             72          7\n",
       "1               Bird            413         75\n",
       "2               Fish            115         11\n",
       "3             Mammal            146         30\n",
       "4  Nonvascular Plant            328          5\n",
       "5            Reptile             73          5\n",
       "6     Vascular Plant           4216         46"
      ]
     },
     "execution_count": 18,
     "metadata": {},
     "output_type": "execute_result"
    }
   ],
   "source": [
    "category_counts = species.groupby(['category', 'is_protected'])\\\n",
    "    .scientific_name.nunique()\\\n",
    "    .reset_index()\\\n",
    "    .pivot(columns='is_protected', index='category', values='scientific_name')\\\n",
    "    .reset_index()\n",
    "\n",
    "category_counts.columns = ['category', 'not_protected', 'protected']\n",
    "\n",
    "category_counts"
   ]
  },
  {
   "cell_type": "code",
   "execution_count": 19,
   "metadata": {},
   "outputs": [
    {
     "data": {
      "image/png": "[encoded data removed]",
      "text/plain": [
       "<Figure size 720x432 with 1 Axes>"
      ]
     },
     "metadata": {},
     "output_type": "display_data"
    }
   ],
   "source": [
    "sns.set(style='ticks', rc={\"axes.grid\":True})\n",
    "\n",
    "f, ax = plt.subplots(figsize=(10, 6))\n",
    "\n",
    "ax = sns.barplot(data=category_counts, x='category', y='protected', palette='Set1')\n",
    "\n",
    "ax.set_title('Number of Species with a Conservation Status by Category', size=18)\n",
    "ax.set_xlabel('Category', size=14)\n",
    "ax.set_ylabel('Number of Species', size=14)\n",
    "\n",
    "plt.show()"
   ]
  },
  {
   "cell_type": "markdown",
   "metadata": {},
   "source": [
    "Again, it is clear to see that birds, mammals, and vascular plants are the most protected classes.\n",
    "\n",
    "Absolute numbers are not always the most useful statistic when comparing different sample sizes, so it is important to calculate the rate of protection that each `category` exhibits in the data."
   ]
  },
  {
   "cell_type": "code",
   "execution_count": 20,
   "metadata": {},
   "outputs": [
    {
     "data": {
      "text/html": [
       "<div>\n",
       "<style scoped>\n",
       "    .dataframe tbody tr th:only-of-type {\n",
       "        vertical-align: middle;\n",
       "    }\n",
       "\n",
       "    .dataframe tbody tr th {\n",
       "        vertical-align: top;\n",
       "    }\n",
       "\n",
       "    .dataframe thead th {\n",
       "        text-align: right;\n",
       "    }\n",
       "</style>\n",
       "<table border=\"1\" class=\"dataframe\">\n",
       "  <thead>\n",
       "    <tr style=\"text-align: right;\">\n",
       "      <th></th>\n",
       "      <th>category</th>\n",
       "      <th>not_protected</th>\n",
       "      <th>protected</th>\n",
       "      <th>percent_protected</th>\n",
       "    </tr>\n",
       "  </thead>\n",
       "  <tbody>\n",
       "    <tr>\n",
       "      <th>0</th>\n",
       "      <td>Amphibian</td>\n",
       "      <td>72</td>\n",
       "      <td>7</td>\n",
       "      <td>8.860759</td>\n",
       "    </tr>\n",
       "    <tr>\n",
       "      <th>1</th>\n",
       "      <td>Bird</td>\n",
       "      <td>413</td>\n",
       "      <td>75</td>\n",
       "      <td>15.368852</td>\n",
       "    </tr>\n",
       "    <tr>\n",
       "      <th>2</th>\n",
       "      <td>Fish</td>\n",
       "      <td>115</td>\n",
       "      <td>11</td>\n",
       "      <td>8.730159</td>\n",
       "    </tr>\n",
       "    <tr>\n",
       "      <th>3</th>\n",
       "      <td>Mammal</td>\n",
       "      <td>146</td>\n",
       "      <td>30</td>\n",
       "      <td>17.045455</td>\n",
       "    </tr>\n",
       "    <tr>\n",
       "      <th>4</th>\n",
       "      <td>Nonvascular Plant</td>\n",
       "      <td>328</td>\n",
       "      <td>5</td>\n",
       "      <td>1.501502</td>\n",
       "    </tr>\n",
       "    <tr>\n",
       "      <th>5</th>\n",
       "      <td>Reptile</td>\n",
       "      <td>73</td>\n",
       "      <td>5</td>\n",
       "      <td>6.410256</td>\n",
       "    </tr>\n",
       "    <tr>\n",
       "      <th>6</th>\n",
       "      <td>Vascular Plant</td>\n",
       "      <td>4216</td>\n",
       "      <td>46</td>\n",
       "      <td>1.079305</td>\n",
       "    </tr>\n",
       "  </tbody>\n",
       "</table>\n",
       "</div>"
      ],
      "text/plain": [
       "            category  not_protected  protected  percent_protected\n",
       "0          Amphibian             72          7           8.860759\n",
       "1               Bird            413         75          15.368852\n",
       "2               Fish            115         11           8.730159\n",
       "3             Mammal            146         30          17.045455\n",
       "4  Nonvascular Plant            328          5           1.501502\n",
       "5            Reptile             73          5           6.410256\n",
       "6     Vascular Plant           4216         46           1.079305"
      ]
     },
     "execution_count": 20,
     "metadata": {},
     "output_type": "execute_result"
    }
   ],
   "source": [
    "category_counts['percent_protected'] = category_counts.protected / \\\n",
    "                                      (category_counts.protected + category_counts.not_protected) * 100\n",
    "\n",
    "category_counts"
   ]
  },
  {
   "cell_type": "code",
   "execution_count": 21,
   "metadata": {
    "scrolled": false
   },
   "outputs": [
    {
     "data": {
      "image/png": "[encoded data removed]",
      "text/plain": [
       "<Figure size 720x432 with 1 Axes>"
      ]
     },
     "metadata": {},
     "output_type": "display_data"
    }
   ],
   "source": [
    "sns.set(style='ticks', rc={\"axes.grid\":True})\n",
    "\n",
    "f, ax = plt.subplots(figsize=(10, 6))\n",
    "\n",
    "ax = sns.barplot(data=category_counts, x='category', y='percent_protected', palette='Set1')\n",
    "\n",
    "ax.set_title('Percent of Species with a Conservation Status by Category', size=18)\n",
    "ax.set_xlabel('Category', size=14)\n",
    "ax.set_ylabel('Percent of Species', size=14)\n",
    "\n",
    "plt.show()"
   ]
  },
  {
   "cell_type": "markdown",
   "metadata": {},
   "source": [
    "Based on this data, birds and mammals are the most likely class to be protected at ~15% and ~17%, respectively.  Vascular plants only have a protection rate of about 1%, which highlights the importance of comparing the protection rates in addition to the absolute numbers."
   ]
  },
  {
   "cell_type": "markdown",
   "metadata": {},
   "source": [
    "Now, it is a natural next step to perform a similar analysis on the group of species most at risk of becoming extinct: the Endangered designation.\n",
    "\n",
    "We start by creating an `is_endangered` column."
   ]
  },
  {
   "cell_type": "code",
   "execution_count": 22,
   "metadata": {},
   "outputs": [
    {
     "data": {
      "text/html": [
       "<div>\n",
       "<style scoped>\n",
       "    .dataframe tbody tr th:only-of-type {\n",
       "        vertical-align: middle;\n",
       "    }\n",
       "\n",
       "    .dataframe tbody tr th {\n",
       "        vertical-align: top;\n",
       "    }\n",
       "\n",
       "    .dataframe thead th {\n",
       "        text-align: right;\n",
       "    }\n",
       "</style>\n",
       "<table border=\"1\" class=\"dataframe\">\n",
       "  <thead>\n",
       "    <tr style=\"text-align: right;\">\n",
       "      <th></th>\n",
       "      <th>category</th>\n",
       "      <th>scientific_name</th>\n",
       "      <th>common_names</th>\n",
       "      <th>conservation_status</th>\n",
       "      <th>is_protected</th>\n",
       "      <th>is_endangered</th>\n",
       "    </tr>\n",
       "  </thead>\n",
       "  <tbody>\n",
       "    <tr>\n",
       "      <th>0</th>\n",
       "      <td>Mammal</td>\n",
       "      <td>Clethrionomys gapperi gapperi</td>\n",
       "      <td>Gapper's Red-Backed Vole</td>\n",
       "      <td>No Intervention</td>\n",
       "      <td>False</td>\n",
       "      <td>False</td>\n",
       "    </tr>\n",
       "    <tr>\n",
       "      <th>1</th>\n",
       "      <td>Mammal</td>\n",
       "      <td>Bos bison</td>\n",
       "      <td>American Bison, Bison</td>\n",
       "      <td>No Intervention</td>\n",
       "      <td>False</td>\n",
       "      <td>False</td>\n",
       "    </tr>\n",
       "    <tr>\n",
       "      <th>2</th>\n",
       "      <td>Mammal</td>\n",
       "      <td>Bos taurus</td>\n",
       "      <td>Aurochs, Aurochs, Domestic Cattle (Feral), Dom...</td>\n",
       "      <td>No Intervention</td>\n",
       "      <td>False</td>\n",
       "      <td>False</td>\n",
       "    </tr>\n",
       "    <tr>\n",
       "      <th>3</th>\n",
       "      <td>Mammal</td>\n",
       "      <td>Ovis aries</td>\n",
       "      <td>Domestic Sheep, Mouflon, Red Sheep, Sheep (Feral)</td>\n",
       "      <td>No Intervention</td>\n",
       "      <td>False</td>\n",
       "      <td>False</td>\n",
       "    </tr>\n",
       "    <tr>\n",
       "      <th>4</th>\n",
       "      <td>Mammal</td>\n",
       "      <td>Cervus elaphus</td>\n",
       "      <td>Wapiti Or Elk</td>\n",
       "      <td>No Intervention</td>\n",
       "      <td>False</td>\n",
       "      <td>False</td>\n",
       "    </tr>\n",
       "  </tbody>\n",
       "</table>\n",
       "</div>"
      ],
      "text/plain": [
       "  category                scientific_name  \\\n",
       "0   Mammal  Clethrionomys gapperi gapperi   \n",
       "1   Mammal                      Bos bison   \n",
       "2   Mammal                     Bos taurus   \n",
       "3   Mammal                     Ovis aries   \n",
       "4   Mammal                 Cervus elaphus   \n",
       "\n",
       "                                        common_names conservation_status  \\\n",
       "0                           Gapper's Red-Backed Vole     No Intervention   \n",
       "1                              American Bison, Bison     No Intervention   \n",
       "2  Aurochs, Aurochs, Domestic Cattle (Feral), Dom...     No Intervention   \n",
       "3  Domestic Sheep, Mouflon, Red Sheep, Sheep (Feral)     No Intervention   \n",
       "4                                      Wapiti Or Elk     No Intervention   \n",
       "\n",
       "   is_protected  is_endangered  \n",
       "0         False          False  \n",
       "1         False          False  \n",
       "2         False          False  \n",
       "3         False          False  \n",
       "4         False          False  "
      ]
     },
     "execution_count": 22,
     "metadata": {},
     "output_type": "execute_result"
    }
   ],
   "source": [
    "endangered = species\n",
    "\n",
    "endangered['is_endangered'] = endangered.conservation_status == 'Endangered'\n",
    "\n",
    "endangered.head()"
   ]
  },
  {
   "cell_type": "markdown",
   "metadata": {},
   "source": [
    "Now, we call `.groupby` `category` and `is_endangered`."
   ]
  },
  {
   "cell_type": "code",
   "execution_count": 23,
   "metadata": {},
   "outputs": [
    {
     "data": {
      "text/html": [
       "<div>\n",
       "<style scoped>\n",
       "    .dataframe tbody tr th:only-of-type {\n",
       "        vertical-align: middle;\n",
       "    }\n",
       "\n",
       "    .dataframe tbody tr th {\n",
       "        vertical-align: top;\n",
       "    }\n",
       "\n",
       "    .dataframe thead th {\n",
       "        text-align: right;\n",
       "    }\n",
       "</style>\n",
       "<table border=\"1\" class=\"dataframe\">\n",
       "  <thead>\n",
       "    <tr style=\"text-align: right;\">\n",
       "      <th></th>\n",
       "      <th>category</th>\n",
       "      <th>not_endangered</th>\n",
       "      <th>endangered</th>\n",
       "    </tr>\n",
       "  </thead>\n",
       "  <tbody>\n",
       "    <tr>\n",
       "      <th>0</th>\n",
       "      <td>Amphibian</td>\n",
       "      <td>78.0</td>\n",
       "      <td>1.0</td>\n",
       "    </tr>\n",
       "    <tr>\n",
       "      <th>1</th>\n",
       "      <td>Bird</td>\n",
       "      <td>484.0</td>\n",
       "      <td>4.0</td>\n",
       "    </tr>\n",
       "    <tr>\n",
       "      <th>2</th>\n",
       "      <td>Fish</td>\n",
       "      <td>122.0</td>\n",
       "      <td>3.0</td>\n",
       "    </tr>\n",
       "    <tr>\n",
       "      <th>3</th>\n",
       "      <td>Mammal</td>\n",
       "      <td>171.0</td>\n",
       "      <td>6.0</td>\n",
       "    </tr>\n",
       "    <tr>\n",
       "      <th>4</th>\n",
       "      <td>Nonvascular Plant</td>\n",
       "      <td>333.0</td>\n",
       "      <td>0.0</td>\n",
       "    </tr>\n",
       "    <tr>\n",
       "      <th>5</th>\n",
       "      <td>Reptile</td>\n",
       "      <td>78.0</td>\n",
       "      <td>0.0</td>\n",
       "    </tr>\n",
       "    <tr>\n",
       "      <th>6</th>\n",
       "      <td>Vascular Plant</td>\n",
       "      <td>4261.0</td>\n",
       "      <td>1.0</td>\n",
       "    </tr>\n",
       "  </tbody>\n",
       "</table>\n",
       "</div>"
      ],
      "text/plain": [
       "            category  not_endangered  endangered\n",
       "0          Amphibian            78.0         1.0\n",
       "1               Bird           484.0         4.0\n",
       "2               Fish           122.0         3.0\n",
       "3             Mammal           171.0         6.0\n",
       "4  Nonvascular Plant           333.0         0.0\n",
       "5            Reptile            78.0         0.0\n",
       "6     Vascular Plant          4261.0         1.0"
      ]
     },
     "execution_count": 23,
     "metadata": {},
     "output_type": "execute_result"
    }
   ],
   "source": [
    "endangered_counts = endangered.groupby(['category', 'is_endangered'])\\\n",
    "    .scientific_name.nunique()\\\n",
    "    .reset_index()\\\n",
    "    .pivot(columns='is_endangered', index='category', values='scientific_name')\\\n",
    "    .reset_index()\n",
    "\n",
    "endangered_counts = endangered_counts.fillna(0)\n",
    "\n",
    "endangered_counts.columns = ['category', 'not_endangered', 'endangered']\n",
    "\n",
    "endangered_counts"
   ]
  },
  {
   "cell_type": "code",
   "execution_count": 24,
   "metadata": {},
   "outputs": [
    {
     "data": {
      "image/png": "[encoded data removed]",
      "text/plain": [
       "<Figure size 720x432 with 1 Axes>"
      ]
     },
     "metadata": {},
     "output_type": "display_data"
    }
   ],
   "source": [
    "sns.set(style='ticks', rc={\"axes.grid\":True})\n",
    "\n",
    "f, ax = plt.subplots(figsize=(10, 6))\n",
    "\n",
    "ax = sns.barplot(data=endangered_counts, x='category', y='endangered', palette='Set1')\n",
    "\n",
    "ax.set_title('Number of Endangered Species by Category', size=18)\n",
    "ax.set_xlabel('Category', size=14)\n",
    "ax.set_ylabel('Number of Species', size=14)\n",
    "\n",
    "plt.show()"
   ]
  },
  {
   "cell_type": "markdown",
   "metadata": {},
   "source": [
    "It is clear that Mammals, Birds, and Fish have the most endangered species (albeit very few).\n",
    "\n",
    "What percent of species are endangered, however?"
   ]
  },
  {
   "cell_type": "code",
   "execution_count": 25,
   "metadata": {},
   "outputs": [
    {
     "data": {
      "text/html": [
       "<div>\n",
       "<style scoped>\n",
       "    .dataframe tbody tr th:only-of-type {\n",
       "        vertical-align: middle;\n",
       "    }\n",
       "\n",
       "    .dataframe tbody tr th {\n",
       "        vertical-align: top;\n",
       "    }\n",
       "\n",
       "    .dataframe thead th {\n",
       "        text-align: right;\n",
       "    }\n",
       "</style>\n",
       "<table border=\"1\" class=\"dataframe\">\n",
       "  <thead>\n",
       "    <tr style=\"text-align: right;\">\n",
       "      <th></th>\n",
       "      <th>category</th>\n",
       "      <th>not_endangered</th>\n",
       "      <th>endangered</th>\n",
       "      <th>percent_endangered</th>\n",
       "    </tr>\n",
       "  </thead>\n",
       "  <tbody>\n",
       "    <tr>\n",
       "      <th>0</th>\n",
       "      <td>Amphibian</td>\n",
       "      <td>78.0</td>\n",
       "      <td>1.0</td>\n",
       "      <td>1.265823</td>\n",
       "    </tr>\n",
       "    <tr>\n",
       "      <th>1</th>\n",
       "      <td>Bird</td>\n",
       "      <td>484.0</td>\n",
       "      <td>4.0</td>\n",
       "      <td>0.819672</td>\n",
       "    </tr>\n",
       "    <tr>\n",
       "      <th>2</th>\n",
       "      <td>Fish</td>\n",
       "      <td>122.0</td>\n",
       "      <td>3.0</td>\n",
       "      <td>2.400000</td>\n",
       "    </tr>\n",
       "    <tr>\n",
       "      <th>3</th>\n",
       "      <td>Mammal</td>\n",
       "      <td>171.0</td>\n",
       "      <td>6.0</td>\n",
       "      <td>3.389831</td>\n",
       "    </tr>\n",
       "    <tr>\n",
       "      <th>4</th>\n",
       "      <td>Nonvascular Plant</td>\n",
       "      <td>333.0</td>\n",
       "      <td>0.0</td>\n",
       "      <td>0.000000</td>\n",
       "    </tr>\n",
       "    <tr>\n",
       "      <th>5</th>\n",
       "      <td>Reptile</td>\n",
       "      <td>78.0</td>\n",
       "      <td>0.0</td>\n",
       "      <td>0.000000</td>\n",
       "    </tr>\n",
       "    <tr>\n",
       "      <th>6</th>\n",
       "      <td>Vascular Plant</td>\n",
       "      <td>4261.0</td>\n",
       "      <td>1.0</td>\n",
       "      <td>0.023463</td>\n",
       "    </tr>\n",
       "  </tbody>\n",
       "</table>\n",
       "</div>"
      ],
      "text/plain": [
       "            category  not_endangered  endangered  percent_endangered\n",
       "0          Amphibian            78.0         1.0            1.265823\n",
       "1               Bird           484.0         4.0            0.819672\n",
       "2               Fish           122.0         3.0            2.400000\n",
       "3             Mammal           171.0         6.0            3.389831\n",
       "4  Nonvascular Plant           333.0         0.0            0.000000\n",
       "5            Reptile            78.0         0.0            0.000000\n",
       "6     Vascular Plant          4261.0         1.0            0.023463"
      ]
     },
     "execution_count": 25,
     "metadata": {},
     "output_type": "execute_result"
    }
   ],
   "source": [
    "endangered_counts['percent_endangered'] = endangered_counts.endangered / \\\n",
    "                                      (endangered_counts.endangered + endangered_counts.not_endangered) * 100\n",
    "\n",
    "endangered_counts"
   ]
  },
  {
   "cell_type": "code",
   "execution_count": 26,
   "metadata": {
    "scrolled": false
   },
   "outputs": [
    {
     "data": {
      "image/png": "[encoded data removed]",
      "text/plain": [
       "<Figure size 720x432 with 1 Axes>"
      ]
     },
     "metadata": {},
     "output_type": "display_data"
    }
   ],
   "source": [
    "sns.set(style='ticks', rc={\"axes.grid\":True})\n",
    "\n",
    "f, ax = plt.subplots(figsize=(10, 6))\n",
    "\n",
    "ax = sns.barplot(data=endangered_counts, x='category', y='percent_endangered', palette='Set1')\n",
    "\n",
    "ax.set_title('Percent of Endangered Species by Category', size=18)\n",
    "ax.set_xlabel('Category', size=14)\n",
    "ax.set_ylabel('Percent of Species', size=14)\n",
    "\n",
    "plt.show()"
   ]
  },
  {
   "cell_type": "markdown",
   "metadata": {},
   "source": [
    "Again, Mammals and Fish have high rates of endangerment with ~3.4% and ~2.4%, respectively."
   ]
  },
  {
   "cell_type": "markdown",
   "metadata": {},
   "source": [
    "#### Statistical Significance\n",
    "\n",
    "According to the third question in the project goals, this section will run some chi-squared tests to see if different species have statistically significant differences in conservation status rates:\n",
    "> Are the differences between species and their conservation status significant?\n",
    "\n",
    "In order to run a chi-squared test, a contingency table will need to be created.  The contingency table should look like this:\n",
    "\n",
    "<table>\n",
    "    <tr>\n",
    "        <td></td>\n",
    "        <td>Protected</td>\n",
    "        <td>Not Protected</td>\n",
    "    </tr>\n",
    "    <tr>\n",
    "        <td>Class 1</td>\n",
    "        <td>?</td>\n",
    "        <td>?</td>\n",
    "    </tr>\n",
    "    <tr>\n",
    "        <td>Class 2</td>\n",
    "        <td>?</td>\n",
    "        <td>?</td>\n",
    "    </tr>\n",
    "</table>\n",
    "\n",
    "The first test is called `contingency1` and must be filled with the correct numbers for mammals and birds.\n",
    "\n",
    "H<sub>0</sub>:  There is **no association** between the protection rates of mammals and birds.  \n",
    "H<sub>a</sub>:  There is an **association** between the protection rates of mammals and birds.\n",
    "\n",
    "Here is the contingency table for this test:\n",
    "\n",
    "<table>\n",
    "    <tr>\n",
    "        <td></td>\n",
    "        <td>Protected</td>\n",
    "        <td>Not Protected</td>\n",
    "    </tr>\n",
    "    <tr>\n",
    "        <td>Mammal</td>\n",
    "        <td>30</td>\n",
    "        <td>146</td>\n",
    "    </tr>\n",
    "    <tr>\n",
    "        <td>Bird</td>\n",
    "        <td>75</td>\n",
    "        <td>413</td>\n",
    "    </tr>\n",
    "</table>\n",
    "\n",
    "We set a standard significance level (alpha) of 0.05 in order to reject the null hypothesis.\n",
    "\n",
    "According to the SciPy documentation, `chi2_contingency` (aliased as `chi_square`) returns four values:\n",
    "- `chi2`:  the test statistic\n",
    "- `p`:  the p-value of the test\n",
    "- `dof`:  degrees of freedom\n",
    "- `expected` (same shape as observed):  the expected frequencies, based on the marginal sums of the table\n",
    "\n",
    "We will only concern ourselves with `p` since that will determine whether there is any significant relationship in our data to reject the null hypothesis."
   ]
  },
  {
   "cell_type": "code",
   "execution_count": 27,
   "metadata": {},
   "outputs": [
    {
     "name": "stdout",
     "output_type": "stream",
     "text": [
      "Chi-Squared: 0.1617014831654557\n",
      "P-Value: 0.6875948096661336\n",
      "Degrees of Freedom: 1\n",
      "Expected Frequencies:\n",
      "[[ 27.8313253 148.1686747]\n",
      " [ 77.1686747 410.8313253]]\n"
     ]
    }
   ],
   "source": [
    "contingency1 = [[30, 146],\n",
    "                [75, 413]]\n",
    "\n",
    "chi2, pval, dof, exp = chi_square(contingency1)\n",
    "print('Chi-Squared: {}'.format(chi2))\n",
    "print('P-Value: {}'.format(pval))\n",
    "print('Degrees of Freedom: {}'.format(dof))\n",
    "print('Expected Frequencies:\\n{}'.format(exp))"
   ]
  },
  {
   "cell_type": "markdown",
   "metadata": {},
   "source": [
    "For the p-value retrieved from this test, the value of 0.69 is much larger than 0.05.  Therefore, in the case of mammals and birds, we cannot reject the null hypothesis, so there is no significant relationship between them (i.e., the variables are independent)."
   ]
  },
  {
   "cell_type": "markdown",
   "metadata": {},
   "source": [
    "The next test is called `contingency2` and must be filled with the correct numbers for reptiles and mammals.\n",
    "\n",
    "H<sub>0</sub>:  There is **no association** between the protection rates of mammals and reptiles.  \n",
    "H<sub>a</sub>:  There is an **association** between the protection rates of mammals and reptiles.\n",
    "\n",
    "Here is the contingency table for this test:\n",
    "\n",
    "<table>\n",
    "    <tr>\n",
    "        <td></td>\n",
    "        <td>Protected</td>\n",
    "        <td>Not Protected</td>\n",
    "    </tr>\n",
    "    <tr>\n",
    "        <td>Reptile</td>\n",
    "        <td>5</td>\n",
    "        <td>73</td>\n",
    "    </tr>\n",
    "    <tr>\n",
    "        <td>Mammal</td>\n",
    "        <td>30</td>\n",
    "        <td>146</td>\n",
    "    </tr>\n",
    "</table>\n",
    "\n",
    "Again, we set a significance level of 0.05 in order to reject the null hypothesis."
   ]
  },
  {
   "cell_type": "code",
   "execution_count": 28,
   "metadata": {},
   "outputs": [
    {
     "name": "stdout",
     "output_type": "stream",
     "text": [
      "Chi-Squared: 4.289183096203645\n",
      "P-Value: 0.03835559022969898\n",
      "Degrees of Freedom: 1\n",
      "Expected Frequencies:\n",
      "[[ 10.7480315  67.2519685]\n",
      " [ 24.2519685 151.7480315]]\n"
     ]
    }
   ],
   "source": [
    "contingency2 = [[5, 73],\n",
    "                [30, 146]]\n",
    "\n",
    "chi2, pval, dof, exp = chi_square(contingency2)\n",
    "print('Chi-Squared: {}'.format(chi2))\n",
    "print('P-Value: {}'.format(pval))\n",
    "print('Degrees of Freedom: {}'.format(dof))\n",
    "print('Expected Frequencies:\\n{}'.format(exp))"
   ]
  },
  {
   "cell_type": "markdown",
   "metadata": {},
   "source": [
    "From this test, the p-value of 0.04 is less than 0.05.  Therefore, in the case of reptiles and mammals, we can reject the null hypothesis, so there is a significant relationship between them (i.e., the variables are not independent)."
   ]
  },
  {
   "cell_type": "markdown",
   "metadata": {},
   "source": [
    "#### Animal Species in Parks\n",
    "\n",
    "The next set of analysis will come from data from the conservationists as they have been recording sightings of different species at several national parks for the past 7 days.  This is in accordance with the fourth question from the project goals:\n",
    "\n",
    "> Which animal is most prevalent and what is their distribution amongst parks?\n",
    "\n",
    "The first step is to look at the the common names from species to get an idea of the most prevalent animals in the dataset.  The data will be need to be split up into individual names.  We will write a function `remove_punctuations` to pass into the `.apply` method for our `species` DataFrame.\n",
    "\n",
    "Within the `get_word_counts` function, we can continue the process of finding the most prevalent animals in the dataset.  We should clean up duplicate words in each row since they should not be counted more than once per species.  Then, we can collapse the words into one list for easier use.  Finally, the data is ready to count the number of occurrences of each word."
   ]
  },
  {
   "cell_type": "code",
   "execution_count": 29,
   "metadata": {},
   "outputs": [],
   "source": [
    "def remove_punctuations(text):\n",
    "    for punctuation in string.punctuation:\n",
    "        text = text.replace(punctuation, '')\n",
    "    return text"
   ]
  },
  {
   "cell_type": "code",
   "execution_count": 30,
   "metadata": {},
   "outputs": [],
   "source": [
    "def get_word_counts(df, *species_category):\n",
    "    common_names = []\n",
    "    for category in species_category:\n",
    "        common_names += df[df.category == category]\\\n",
    "            .common_names\\\n",
    "            .apply(remove_punctuations)\\\n",
    "            .str.split().tolist()\n",
    "    \n",
    "    clean_rows = []\n",
    "\n",
    "    for item in common_names:\n",
    "        item = list(dict.fromkeys(item))\n",
    "        clean_rows.append(item)\n",
    "        \n",
    "    res = list(chain.from_iterable(i if isinstance(i, list) else [i] for i in clean_rows))\n",
    "    \n",
    "    words_counted = []\n",
    "\n",
    "    for i in res:\n",
    "        x = res.count(i)\n",
    "        words_counted.append((i, x))\n",
    "\n",
    "    word_counts = pd.DataFrame(words_counted, columns=['word', 'count']).drop_duplicates().sort_values('count', ascending=False)\n",
    "    \n",
    "    return word_counts"
   ]
  },
  {
   "cell_type": "markdown",
   "metadata": {},
   "source": [
    "In our data, we consider animals to be all categories except `'Vascular Plant'` and `'Nonvascular Plant'`."
   ]
  },
  {
   "cell_type": "code",
   "execution_count": 31,
   "metadata": {},
   "outputs": [
    {
     "data": {
      "text/html": [
       "<div>\n",
       "<style scoped>\n",
       "    .dataframe tbody tr th:only-of-type {\n",
       "        vertical-align: middle;\n",
       "    }\n",
       "\n",
       "    .dataframe tbody tr th {\n",
       "        vertical-align: top;\n",
       "    }\n",
       "\n",
       "    .dataframe thead th {\n",
       "        text-align: right;\n",
       "    }\n",
       "</style>\n",
       "<table border=\"1\" class=\"dataframe\">\n",
       "  <thead>\n",
       "    <tr style=\"text-align: right;\">\n",
       "      <th></th>\n",
       "      <th>word</th>\n",
       "      <th>count</th>\n",
       "    </tr>\n",
       "  </thead>\n",
       "  <tbody>\n",
       "    <tr>\n",
       "      <th>214</th>\n",
       "      <td>Warbler</td>\n",
       "      <td>59</td>\n",
       "    </tr>\n",
       "    <tr>\n",
       "      <th>7</th>\n",
       "      <td>Northern</td>\n",
       "      <td>53</td>\n",
       "    </tr>\n",
       "    <tr>\n",
       "      <th>48</th>\n",
       "      <td>Salamander</td>\n",
       "      <td>41</td>\n",
       "    </tr>\n",
       "    <tr>\n",
       "      <th>1</th>\n",
       "      <td>Eastern</td>\n",
       "      <td>39</td>\n",
       "    </tr>\n",
       "    <tr>\n",
       "      <th>0</th>\n",
       "      <td>American</td>\n",
       "      <td>37</td>\n",
       "    </tr>\n",
       "    <tr>\n",
       "      <th>269</th>\n",
       "      <td>Common</td>\n",
       "      <td>31</td>\n",
       "    </tr>\n",
       "    <tr>\n",
       "      <th>25</th>\n",
       "      <td>Western</td>\n",
       "      <td>31</td>\n",
       "    </tr>\n",
       "    <tr>\n",
       "      <th>414</th>\n",
       "      <td>Sparrow</td>\n",
       "      <td>29</td>\n",
       "    </tr>\n",
       "    <tr>\n",
       "      <th>1529</th>\n",
       "      <td>Snake</td>\n",
       "      <td>28</td>\n",
       "    </tr>\n",
       "    <tr>\n",
       "      <th>16</th>\n",
       "      <td>Mountain</td>\n",
       "      <td>23</td>\n",
       "    </tr>\n",
       "  </tbody>\n",
       "</table>\n",
       "</div>"
      ],
      "text/plain": [
       "            word  count\n",
       "214      Warbler     59\n",
       "7       Northern     53\n",
       "48    Salamander     41\n",
       "1        Eastern     39\n",
       "0       American     37\n",
       "269       Common     31\n",
       "25       Western     31\n",
       "414      Sparrow     29\n",
       "1529       Snake     28\n",
       "16      Mountain     23"
      ]
     },
     "execution_count": 31,
     "metadata": {},
     "output_type": "execute_result"
    }
   ],
   "source": [
    "animal_word_counts = get_word_counts(species, 'Amphibian', 'Bird', 'Fish', 'Mammal', 'Reptile')\n",
    "\n",
    "animal_word_counts.head(10)"
   ]
  },
  {
   "cell_type": "markdown",
   "metadata": {},
   "source": [
    "From this analysis, we have that `'Warbler'` occurred the most in our `species` data at 59 times.  This simply means that the most frequent common name for non-plant species in this data is `'Warbler'`."
   ]
  },
  {
   "cell_type": "markdown",
   "metadata": {},
   "source": [
    "The primary issue arising from this analysis is that simply finding the most frequent common name in the `species` data does not necessarily mean that this species group is the most frequently observed in the parks.\n",
    "\n",
    "The first step in solving this problem will be to run the same word count analysis on the `observations` data.  We can add a `common_names` column to our `observations` DataFrame by mapping each `scientific_name` in the `observations` DataFrame to its associated `common_names` in the `species` DataFrame."
   ]
  },
  {
   "cell_type": "markdown",
   "metadata": {},
   "source": [
    "First, we create lists from each necessary column in the `observations` DataFrame.  Then, we can use a dictionary comprehension to map each `scientific_name` to a set of `column_names` or a `category`."
   ]
  },
  {
   "cell_type": "code",
   "execution_count": 32,
   "metadata": {},
   "outputs": [],
   "source": [
    "scientific_names = species.scientific_name.tolist()\n",
    "common_names = species.common_names.tolist()\n",
    "categories = species.category.tolist()\n",
    "conservation_statuses = species.conservation_status.tolist()\n",
    "is_protected = species.is_protected.tolist()\n",
    "\n",
    "names_dict = {sci: common for sci, common in zip(scientific_names, common_names)}\n",
    "categories_dict = {sci: cat for sci, cat in zip(scientific_names, categories)}\n",
    "conservation_statuses_dict = {sci: cat for sci, cat in zip(scientific_names, conservation_statuses)}\n",
    "is_protected_dict = {sci: cat for sci, cat in zip(scientific_names, is_protected)}"
   ]
  },
  {
   "cell_type": "markdown",
   "metadata": {},
   "source": [
    "After creating new columns to `observations` by calling `.map` on our dictionaries, we can reorder the columns so that the DataFrame looks more like the `species` DataFrame."
   ]
  },
  {
   "cell_type": "code",
   "execution_count": 33,
   "metadata": {},
   "outputs": [
    {
     "data": {
      "text/html": [
       "<div>\n",
       "<style scoped>\n",
       "    .dataframe tbody tr th:only-of-type {\n",
       "        vertical-align: middle;\n",
       "    }\n",
       "\n",
       "    .dataframe tbody tr th {\n",
       "        vertical-align: top;\n",
       "    }\n",
       "\n",
       "    .dataframe thead th {\n",
       "        text-align: right;\n",
       "    }\n",
       "</style>\n",
       "<table border=\"1\" class=\"dataframe\">\n",
       "  <thead>\n",
       "    <tr style=\"text-align: right;\">\n",
       "      <th></th>\n",
       "      <th>category</th>\n",
       "      <th>scientific_name</th>\n",
       "      <th>common_names</th>\n",
       "      <th>park_name</th>\n",
       "      <th>observations</th>\n",
       "      <th>conservation_status</th>\n",
       "      <th>is_protected</th>\n",
       "    </tr>\n",
       "  </thead>\n",
       "  <tbody>\n",
       "    <tr>\n",
       "      <th>0</th>\n",
       "      <td>Vascular Plant</td>\n",
       "      <td>Vicia benghalensis</td>\n",
       "      <td>Purple Vetch, Reddish Tufted Vetch</td>\n",
       "      <td>Great Smoky Mountains National Park</td>\n",
       "      <td>68</td>\n",
       "      <td>No Intervention</td>\n",
       "      <td>False</td>\n",
       "    </tr>\n",
       "    <tr>\n",
       "      <th>1</th>\n",
       "      <td>Mammal</td>\n",
       "      <td>Neovison vison</td>\n",
       "      <td>American Mink</td>\n",
       "      <td>Great Smoky Mountains National Park</td>\n",
       "      <td>77</td>\n",
       "      <td>No Intervention</td>\n",
       "      <td>False</td>\n",
       "    </tr>\n",
       "    <tr>\n",
       "      <th>2</th>\n",
       "      <td>Vascular Plant</td>\n",
       "      <td>Prunus subcordata</td>\n",
       "      <td>Klamath Plum</td>\n",
       "      <td>Yosemite National Park</td>\n",
       "      <td>138</td>\n",
       "      <td>No Intervention</td>\n",
       "      <td>False</td>\n",
       "    </tr>\n",
       "    <tr>\n",
       "      <th>3</th>\n",
       "      <td>Vascular Plant</td>\n",
       "      <td>Abutilon theophrasti</td>\n",
       "      <td>Velvetleaf</td>\n",
       "      <td>Bryce National Park</td>\n",
       "      <td>84</td>\n",
       "      <td>No Intervention</td>\n",
       "      <td>False</td>\n",
       "    </tr>\n",
       "    <tr>\n",
       "      <th>4</th>\n",
       "      <td>Vascular Plant</td>\n",
       "      <td>Githopsis specularioides</td>\n",
       "      <td>Common Bluecup</td>\n",
       "      <td>Great Smoky Mountains National Park</td>\n",
       "      <td>85</td>\n",
       "      <td>No Intervention</td>\n",
       "      <td>False</td>\n",
       "    </tr>\n",
       "  </tbody>\n",
       "</table>\n",
       "</div>"
      ],
      "text/plain": [
       "         category           scientific_name  \\\n",
       "0  Vascular Plant        Vicia benghalensis   \n",
       "1          Mammal            Neovison vison   \n",
       "2  Vascular Plant         Prunus subcordata   \n",
       "3  Vascular Plant      Abutilon theophrasti   \n",
       "4  Vascular Plant  Githopsis specularioides   \n",
       "\n",
       "                         common_names                            park_name  \\\n",
       "0  Purple Vetch, Reddish Tufted Vetch  Great Smoky Mountains National Park   \n",
       "1                       American Mink  Great Smoky Mountains National Park   \n",
       "2                        Klamath Plum               Yosemite National Park   \n",
       "3                          Velvetleaf                  Bryce National Park   \n",
       "4                      Common Bluecup  Great Smoky Mountains National Park   \n",
       "\n",
       "   observations conservation_status  is_protected  \n",
       "0            68     No Intervention         False  \n",
       "1            77     No Intervention         False  \n",
       "2           138     No Intervention         False  \n",
       "3            84     No Intervention         False  \n",
       "4            85     No Intervention         False  "
      ]
     },
     "execution_count": 33,
     "metadata": {},
     "output_type": "execute_result"
    }
   ],
   "source": [
    "observations['common_names'] = observations.scientific_name.map(names_dict)\n",
    "observations['category'] = observations.scientific_name.map(categories_dict)\n",
    "observations['conservation_status'] = observations.scientific_name.map(conservation_statuses_dict)\n",
    "observations['is_protected'] = observations.scientific_name.map(is_protected_dict)\n",
    "\n",
    "observations = observations[['category', 'scientific_name', 'common_names', 'park_name', 'observations', 'conservation_status', 'is_protected']]\n",
    "\n",
    "observations.head()"
   ]
  },
  {
   "cell_type": "markdown",
   "metadata": {},
   "source": [
    "Again, we can run our analysis of word counts for animals."
   ]
  },
  {
   "cell_type": "code",
   "execution_count": 34,
   "metadata": {},
   "outputs": [
    {
     "data": {
      "text/html": [
       "<div>\n",
       "<style scoped>\n",
       "    .dataframe tbody tr th:only-of-type {\n",
       "        vertical-align: middle;\n",
       "    }\n",
       "\n",
       "    .dataframe tbody tr th {\n",
       "        vertical-align: top;\n",
       "    }\n",
       "\n",
       "    .dataframe thead th {\n",
       "        text-align: right;\n",
       "    }\n",
       "</style>\n",
       "<table border=\"1\" class=\"dataframe\">\n",
       "  <thead>\n",
       "    <tr style=\"text-align: right;\">\n",
       "      <th></th>\n",
       "      <th>word</th>\n",
       "      <th>count</th>\n",
       "    </tr>\n",
       "  </thead>\n",
       "  <tbody>\n",
       "    <tr>\n",
       "      <th>870</th>\n",
       "      <td>Warbler</td>\n",
       "      <td>236</td>\n",
       "    </tr>\n",
       "    <tr>\n",
       "      <th>16</th>\n",
       "      <td>Northern</td>\n",
       "      <td>216</td>\n",
       "    </tr>\n",
       "    <tr>\n",
       "      <th>3</th>\n",
       "      <td>Salamander</td>\n",
       "      <td>164</td>\n",
       "    </tr>\n",
       "    <tr>\n",
       "      <th>33</th>\n",
       "      <td>American</td>\n",
       "      <td>164</td>\n",
       "    </tr>\n",
       "    <tr>\n",
       "      <th>0</th>\n",
       "      <td>Eastern</td>\n",
       "      <td>152</td>\n",
       "    </tr>\n",
       "    <tr>\n",
       "      <th>37</th>\n",
       "      <td>Western</td>\n",
       "      <td>120</td>\n",
       "    </tr>\n",
       "    <tr>\n",
       "      <th>852</th>\n",
       "      <td>Sparrow</td>\n",
       "      <td>116</td>\n",
       "    </tr>\n",
       "    <tr>\n",
       "      <th>5404</th>\n",
       "      <td>Snake</td>\n",
       "      <td>112</td>\n",
       "    </tr>\n",
       "    <tr>\n",
       "      <th>879</th>\n",
       "      <td>Common</td>\n",
       "      <td>108</td>\n",
       "    </tr>\n",
       "    <tr>\n",
       "      <th>145</th>\n",
       "      <td>Mountain</td>\n",
       "      <td>92</td>\n",
       "    </tr>\n",
       "  </tbody>\n",
       "</table>\n",
       "</div>"
      ],
      "text/plain": [
       "            word  count\n",
       "870      Warbler    236\n",
       "16      Northern    216\n",
       "3     Salamander    164\n",
       "33      American    164\n",
       "0        Eastern    152\n",
       "37       Western    120\n",
       "852      Sparrow    116\n",
       "5404       Snake    112\n",
       "879       Common    108\n",
       "145     Mountain     92"
      ]
     },
     "execution_count": 34,
     "metadata": {},
     "output_type": "execute_result"
    }
   ],
   "source": [
    "animal_word_counts = get_word_counts(observations, 'Amphibian', 'Bird', 'Fish', 'Mammal', 'Reptile')\n",
    "\n",
    "animal_word_counts.head(10)"
   ]
  },
  {
   "cell_type": "markdown",
   "metadata": {},
   "source": [
    "While the counts of each word have increased, `'Warbler'` still remains the most common word among animals."
   ]
  },
  {
   "cell_type": "markdown",
   "metadata": {},
   "source": [
    "The next step in determining the most commonly observed animal is to sum the `observations` corresponding to the `word_counts` that contain each `word`.  The goal is to return a similar DataFrame with an added column containing the number of `observations` corresponding to each `word`."
   ]
  },
  {
   "cell_type": "code",
   "execution_count": 35,
   "metadata": {},
   "outputs": [],
   "source": [
    "animal_observations = observations.loc[(observations.category == 'Amphibian') |\\\n",
    "                                       (observations.category == 'Bird') |\\\n",
    "                                       (observations.category == 'Fish') |\\\n",
    "                                       (observations.category == 'Mammal') |\\\n",
    "                                       (observations.category == 'Reptile')]"
   ]
  },
  {
   "cell_type": "code",
   "execution_count": 36,
   "metadata": {},
   "outputs": [],
   "source": [
    "observations_by_word = []\n",
    "\n",
    "for word in animal_word_counts.word:\n",
    "    obs = animal_observations.observations[animal_observations.common_names.str.contains(word)].sum()\n",
    "    observations_by_word.append(obs)"
   ]
  },
  {
   "cell_type": "code",
   "execution_count": 37,
   "metadata": {},
   "outputs": [
    {
     "data": {
      "text/plain": [
       "[33394, 29580, 25108, 22892, 21805]"
      ]
     },
     "execution_count": 37,
     "metadata": {},
     "output_type": "execute_result"
    }
   ],
   "source": [
    "observations_by_word[:5]"
   ]
  },
  {
   "cell_type": "code",
   "execution_count": 38,
   "metadata": {},
   "outputs": [
    {
     "data": {
      "text/html": [
       "<div>\n",
       "<style scoped>\n",
       "    .dataframe tbody tr th:only-of-type {\n",
       "        vertical-align: middle;\n",
       "    }\n",
       "\n",
       "    .dataframe tbody tr th {\n",
       "        vertical-align: top;\n",
       "    }\n",
       "\n",
       "    .dataframe thead th {\n",
       "        text-align: right;\n",
       "    }\n",
       "</style>\n",
       "<table border=\"1\" class=\"dataframe\">\n",
       "  <thead>\n",
       "    <tr style=\"text-align: right;\">\n",
       "      <th></th>\n",
       "      <th>word</th>\n",
       "      <th>count</th>\n",
       "      <th>observations</th>\n",
       "    </tr>\n",
       "  </thead>\n",
       "  <tbody>\n",
       "    <tr>\n",
       "      <th>870</th>\n",
       "      <td>Warbler</td>\n",
       "      <td>236</td>\n",
       "      <td>33394</td>\n",
       "    </tr>\n",
       "    <tr>\n",
       "      <th>6476</th>\n",
       "      <td>North</td>\n",
       "      <td>8</td>\n",
       "      <td>30568</td>\n",
       "    </tr>\n",
       "    <tr>\n",
       "      <th>16</th>\n",
       "      <td>Northern</td>\n",
       "      <td>216</td>\n",
       "      <td>29580</td>\n",
       "    </tr>\n",
       "    <tr>\n",
       "      <th>57</th>\n",
       "      <td>Red</td>\n",
       "      <td>68</td>\n",
       "      <td>28485</td>\n",
       "    </tr>\n",
       "    <tr>\n",
       "      <th>893</th>\n",
       "      <td>Black</td>\n",
       "      <td>68</td>\n",
       "      <td>26899</td>\n",
       "    </tr>\n",
       "    <tr>\n",
       "      <th>3</th>\n",
       "      <td>Salamander</td>\n",
       "      <td>164</td>\n",
       "      <td>25108</td>\n",
       "    </tr>\n",
       "    <tr>\n",
       "      <th>33</th>\n",
       "      <td>American</td>\n",
       "      <td>164</td>\n",
       "      <td>22892</td>\n",
       "    </tr>\n",
       "    <tr>\n",
       "      <th>0</th>\n",
       "      <td>Eastern</td>\n",
       "      <td>152</td>\n",
       "      <td>21805</td>\n",
       "    </tr>\n",
       "    <tr>\n",
       "      <th>74</th>\n",
       "      <td>Yellow</td>\n",
       "      <td>28</td>\n",
       "      <td>17694</td>\n",
       "    </tr>\n",
       "    <tr>\n",
       "      <th>187</th>\n",
       "      <td>Wood</td>\n",
       "      <td>20</td>\n",
       "      <td>17120</td>\n",
       "    </tr>\n",
       "  </tbody>\n",
       "</table>\n",
       "</div>"
      ],
      "text/plain": [
       "            word  count  observations\n",
       "870      Warbler    236         33394\n",
       "6476       North      8         30568\n",
       "16      Northern    216         29580\n",
       "57           Red     68         28485\n",
       "893        Black     68         26899\n",
       "3     Salamander    164         25108\n",
       "33      American    164         22892\n",
       "0        Eastern    152         21805\n",
       "74        Yellow     28         17694\n",
       "187         Wood     20         17120"
      ]
     },
     "execution_count": 38,
     "metadata": {},
     "output_type": "execute_result"
    }
   ],
   "source": [
    "animal_word_counts['observations'] = observations_by_word\n",
    "\n",
    "animal_word_counts.sort_values('observations', ascending=False).head(10)"
   ]
  },
  {
   "cell_type": "markdown",
   "metadata": {},
   "source": [
    "Finally, we can confirm that the `'Warbler'` was the most observed animal in the four National Parks over the past seven days with 33,394 observations."
   ]
  },
  {
   "cell_type": "markdown",
   "metadata": {},
   "source": [
    "Knowing that the `'Warbler'` is the most observed animal, let's see how many were observed in each National Park."
   ]
  },
  {
   "cell_type": "code",
   "execution_count": 39,
   "metadata": {},
   "outputs": [
    {
     "data": {
      "text/html": [
       "<div>\n",
       "<style scoped>\n",
       "    .dataframe tbody tr th:only-of-type {\n",
       "        vertical-align: middle;\n",
       "    }\n",
       "\n",
       "    .dataframe tbody tr th {\n",
       "        vertical-align: top;\n",
       "    }\n",
       "\n",
       "    .dataframe thead th {\n",
       "        text-align: right;\n",
       "    }\n",
       "</style>\n",
       "<table border=\"1\" class=\"dataframe\">\n",
       "  <thead>\n",
       "    <tr style=\"text-align: right;\">\n",
       "      <th></th>\n",
       "      <th>park_name</th>\n",
       "      <th>warbler_observations</th>\n",
       "      <th>non_warbler_observations</th>\n",
       "      <th>animal_observations</th>\n",
       "      <th>percent_observations</th>\n",
       "    </tr>\n",
       "  </thead>\n",
       "  <tbody>\n",
       "    <tr>\n",
       "      <th>0</th>\n",
       "      <td>Bryce National Park</td>\n",
       "      <td>5760</td>\n",
       "      <td>94190</td>\n",
       "      <td>99950</td>\n",
       "      <td>5.762881</td>\n",
       "    </tr>\n",
       "    <tr>\n",
       "      <th>1</th>\n",
       "      <td>Great Smoky Mountains National Park</td>\n",
       "      <td>4435</td>\n",
       "      <td>68909</td>\n",
       "      <td>73344</td>\n",
       "      <td>6.046848</td>\n",
       "    </tr>\n",
       "    <tr>\n",
       "      <th>2</th>\n",
       "      <td>Yellowstone National Park</td>\n",
       "      <td>14487</td>\n",
       "      <td>233127</td>\n",
       "      <td>247614</td>\n",
       "      <td>5.850638</td>\n",
       "    </tr>\n",
       "    <tr>\n",
       "      <th>3</th>\n",
       "      <td>Yosemite National Park</td>\n",
       "      <td>8712</td>\n",
       "      <td>139376</td>\n",
       "      <td>148088</td>\n",
       "      <td>5.882988</td>\n",
       "    </tr>\n",
       "  </tbody>\n",
       "</table>\n",
       "</div>"
      ],
      "text/plain": [
       "                             park_name  warbler_observations  \\\n",
       "0                  Bryce National Park                  5760   \n",
       "1  Great Smoky Mountains National Park                  4435   \n",
       "2            Yellowstone National Park                 14487   \n",
       "3               Yosemite National Park                  8712   \n",
       "\n",
       "   non_warbler_observations  animal_observations  percent_observations  \n",
       "0                     94190                99950              5.762881  \n",
       "1                     68909                73344              6.046848  \n",
       "2                    233127               247614              5.850638  \n",
       "3                    139376               148088              5.882988  "
      ]
     },
     "execution_count": 39,
     "metadata": {},
     "output_type": "execute_result"
    }
   ],
   "source": [
    "warbler_observations = animal_observations[animal_observations.common_names.str.contains('Warbler')].groupby('park_name').sum().reset_index()\n",
    "\n",
    "warbler_observations['animal_observations'] = animal_observations.groupby('park_name').sum().reset_index().observations\n",
    "warbler_observations['non_warbler_observations'] = warbler_observations.animal_observations - warbler_observations.observations\n",
    "warbler_observations['percent_observations'] = warbler_observations.observations / warbler_observations.animal_observations * 100\n",
    "\n",
    "warbler_observations = warbler_observations[['park_name', 'observations', 'non_warbler_observations', 'animal_observations', 'percent_observations']]\n",
    "warbler_observations = warbler_observations.rename(columns={'observations': 'warbler_observations'})\n",
    "\n",
    "warbler_observations"
   ]
  },
  {
   "cell_type": "markdown",
   "metadata": {},
   "source": [
    "It seems that Yellowstone National Park has the highest absolute number of warbler observations at 14,487.  On the other hand, Great Smoky Mountains National Park has the highest rate of warblers among observed animals at 6.05%"
   ]
  },
  {
   "cell_type": "code",
   "execution_count": 40,
   "metadata": {},
   "outputs": [
    {
     "data": {
      "image/png": "[encoded data removed]",
      "text/plain": [
       "<Figure size 1008x432 with 1 Axes>"
      ]
     },
     "metadata": {},
     "output_type": "display_data"
    }
   ],
   "source": [
    "sns.set(style='ticks', rc={\"axes.grid\":True})\n",
    "\n",
    "f, ax = plt.subplots(figsize=(14, 6))\n",
    "\n",
    "ax = sns.barplot(data=warbler_observations, x='park_name', y='warbler_observations', palette='Set1')\n",
    "\n",
    "ax.set_title('Number of Warbler Observations by National Park', size=18)\n",
    "ax.set_xlabel('Park Name', size=14)\n",
    "ax.set_ylabel('Observations', size=14)\n",
    "\n",
    "plt.show()"
   ]
  },
  {
   "cell_type": "code",
   "execution_count": 41,
   "metadata": {},
   "outputs": [
    {
     "data": {
      "image/png": "[encoded data removed]",
      "text/plain": [
       "<Figure size 1008x432 with 1 Axes>"
      ]
     },
     "metadata": {},
     "output_type": "display_data"
    }
   ],
   "source": [
    "sns.set(style='ticks', rc={\"axes.grid\":True})\n",
    "\n",
    "f, ax = plt.subplots(figsize=(14, 6))\n",
    "\n",
    "ax = sns.barplot(data=warbler_observations, x='park_name', y='percent_observations', palette='Set1')\n",
    "\n",
    "ax.set_title('Percent of Animal Observations as Warblers by National Park', size=18)\n",
    "ax.set_xlabel('Park Name', size=14)\n",
    "ax.set_ylabel('Percent', size=14)\n",
    "\n",
    "ax.set_ylim(5.5, 6.1)\n",
    "\n",
    "plt.show()"
   ]
  },
  {
   "cell_type": "markdown",
   "metadata": {},
   "source": [
    "Let's return to the hypothesis testing from before and run a chi-squared test for independence to see whether the observation rates for warblers at the national parks are independent of one another.\n",
    "\n",
    "This test is called `contingency3` and must be filled with the correct warbler observation numbers for each national park.\n",
    "\n",
    "H<sub>0</sub>:  There is **no association** between the national parks and the observation rate of warblers.  \n",
    "H<sub>a</sub>:  There is an **association** between the national parks and the observation rate of warblers.\n",
    "\n",
    "Here is the contingency table for this test:\n",
    "\n",
    "<table>\n",
    "    <tr>\n",
    "        <td></td>\n",
    "        <td>Warbler<br>\n",
    "            Observations</td>\n",
    "        <td>Non-Warbler<br>\n",
    "            Observations</td>\n",
    "    </tr>\n",
    "    <tr>\n",
    "        <td>Bryce National Park</td>\n",
    "        <td>5,760</td>\n",
    "        <td>94,190</td>\n",
    "    </tr>\n",
    "    <tr>\n",
    "        <td>Great Smoky Mountains National Park</td>\n",
    "        <td>4,435</td>\n",
    "        <td>68,909</td>\n",
    "    </tr>\n",
    "    <tr>\n",
    "        <td>Yellowstone National Park</td>\n",
    "        <td>14,487</td>\n",
    "        <td>233,127</td>\n",
    "    </tr>\n",
    "    <tr>\n",
    "        <td>Yosemite National Park</td>\n",
    "        <td>8,712</td>\n",
    "        <td>139,376</td>\n",
    "    </tr>\n",
    "</table>\n",
    "\n",
    "We set a significance level of 0.05 for this test."
   ]
  },
  {
   "cell_type": "code",
   "execution_count": 42,
   "metadata": {},
   "outputs": [
    {
     "name": "stdout",
     "output_type": "stream",
     "text": [
      "Chi-Squared: 6.440170506882721\n",
      "P-Value: 0.09205213051347098\n",
      "Degrees of Freedom: 3\n",
      "Expected Frequencies:\n",
      "[[  5865.99958523  94084.00041477]\n",
      " [  4304.51099129  69039.48900871]\n",
      " [ 14532.30236416 233081.69763584]\n",
      " [  8691.18705931 139396.81294069]]\n"
     ]
    }
   ],
   "source": [
    "contingency3 = [[5760, 94190],\n",
    "                [4435, 68909],\n",
    "                [14487, 233127],\n",
    "                [8712, 139376]]\n",
    "\n",
    "chi2, pval, dof, exp = chi_square(contingency3)\n",
    "print('Chi-Squared: {}'.format(chi2))\n",
    "print('P-Value: {}'.format(pval))\n",
    "print('Degrees of Freedom: {}'.format(dof))\n",
    "print('Expected Frequencies:\\n{}'.format(exp))"
   ]
  },
  {
   "cell_type": "markdown",
   "metadata": {},
   "source": [
    "This test has a p-value of 0.092 which does not meet the significance threshold of 0.05 or lower.  Therefore, we cannot reject the null hypothesis, and we conclude that there is no significant relationship between the national parks and the observation rate of warblers."
   ]
  },
  {
   "cell_type": "markdown",
   "metadata": {},
   "source": [
    "#### Plant Species in Parks\n",
    "\n",
    "The next set of analysis follows the same process as the previous section and tries to answer the fifth question from the project goals:\n",
    "\n",
    "> Which plant is most prevalent and what is its distribution amongst parks?"
   ]
  },
  {
   "cell_type": "markdown",
   "metadata": {},
   "source": [
    "Now, let's run the same analysis on plants (i.e., vascular and nonvascular plants)."
   ]
  },
  {
   "cell_type": "code",
   "execution_count": 43,
   "metadata": {},
   "outputs": [
    {
     "data": {
      "text/html": [
       "<div>\n",
       "<style scoped>\n",
       "    .dataframe tbody tr th:only-of-type {\n",
       "        vertical-align: middle;\n",
       "    }\n",
       "\n",
       "    .dataframe tbody tr th {\n",
       "        vertical-align: top;\n",
       "    }\n",
       "\n",
       "    .dataframe thead th {\n",
       "        text-align: right;\n",
       "    }\n",
       "</style>\n",
       "<table border=\"1\" class=\"dataframe\">\n",
       "  <thead>\n",
       "    <tr style=\"text-align: right;\">\n",
       "      <th></th>\n",
       "      <th>word</th>\n",
       "      <th>count</th>\n",
       "    </tr>\n",
       "  </thead>\n",
       "  <tbody>\n",
       "    <tr>\n",
       "      <th>3515</th>\n",
       "      <td>Moss</td>\n",
       "      <td>1144</td>\n",
       "    </tr>\n",
       "    <tr>\n",
       "      <th>225</th>\n",
       "      <td>Sedge</td>\n",
       "      <td>900</td>\n",
       "    </tr>\n",
       "    <tr>\n",
       "      <th>8</th>\n",
       "      <td>Common</td>\n",
       "      <td>700</td>\n",
       "    </tr>\n",
       "    <tr>\n",
       "      <th>57</th>\n",
       "      <td>Grass</td>\n",
       "      <td>568</td>\n",
       "    </tr>\n",
       "    <tr>\n",
       "      <th>195</th>\n",
       "      <td>Mountain</td>\n",
       "      <td>504</td>\n",
       "    </tr>\n",
       "    <tr>\n",
       "      <th>12</th>\n",
       "      <td>Wild</td>\n",
       "      <td>400</td>\n",
       "    </tr>\n",
       "    <tr>\n",
       "      <th>26</th>\n",
       "      <td>White</td>\n",
       "      <td>380</td>\n",
       "    </tr>\n",
       "    <tr>\n",
       "      <th>166</th>\n",
       "      <td>Yellow</td>\n",
       "      <td>348</td>\n",
       "    </tr>\n",
       "    <tr>\n",
       "      <th>390</th>\n",
       "      <td>Western</td>\n",
       "      <td>332</td>\n",
       "    </tr>\n",
       "    <tr>\n",
       "      <th>32</th>\n",
       "      <td>American</td>\n",
       "      <td>272</td>\n",
       "    </tr>\n",
       "  </tbody>\n",
       "</table>\n",
       "</div>"
      ],
      "text/plain": [
       "          word  count\n",
       "3515      Moss   1144\n",
       "225      Sedge    900\n",
       "8       Common    700\n",
       "57       Grass    568\n",
       "195   Mountain    504\n",
       "12        Wild    400\n",
       "26       White    380\n",
       "166     Yellow    348\n",
       "390    Western    332\n",
       "32    American    272"
      ]
     },
     "execution_count": 43,
     "metadata": {},
     "output_type": "execute_result"
    }
   ],
   "source": [
    "plant_word_counts = get_word_counts(observations, 'Vascular Plant', 'Nonvascular Plant')\n",
    "plant_word_counts.head(10)"
   ]
  },
  {
   "cell_type": "code",
   "execution_count": 44,
   "metadata": {},
   "outputs": [],
   "source": [
    "plant_observations = observations.loc[(observations.category == 'Vascular Plant') |\\\n",
    "                                       (observations.category == 'Nonvascular Plant')]"
   ]
  },
  {
   "cell_type": "code",
   "execution_count": 45,
   "metadata": {},
   "outputs": [],
   "source": [
    "observations_by_word = []\n",
    "\n",
    "for word in plant_word_counts.word:\n",
    "    obs = plant_observations.observations[plant_observations.common_names.str.contains(word)].sum()\n",
    "    observations_by_word.append(obs)"
   ]
  },
  {
   "cell_type": "code",
   "execution_count": 46,
   "metadata": {},
   "outputs": [
    {
     "data": {
      "text/plain": [
       "[167043, 134629, 100139, 97364, 83946]"
      ]
     },
     "execution_count": 46,
     "metadata": {},
     "output_type": "execute_result"
    }
   ],
   "source": [
    "observations_by_word[:5]"
   ]
  },
  {
   "cell_type": "code",
   "execution_count": 47,
   "metadata": {},
   "outputs": [
    {
     "data": {
      "text/html": [
       "<div>\n",
       "<style scoped>\n",
       "    .dataframe tbody tr th:only-of-type {\n",
       "        vertical-align: middle;\n",
       "    }\n",
       "\n",
       "    .dataframe tbody tr th {\n",
       "        vertical-align: top;\n",
       "    }\n",
       "\n",
       "    .dataframe thead th {\n",
       "        text-align: right;\n",
       "    }\n",
       "</style>\n",
       "<table border=\"1\" class=\"dataframe\">\n",
       "  <thead>\n",
       "    <tr style=\"text-align: right;\">\n",
       "      <th></th>\n",
       "      <th>word</th>\n",
       "      <th>count</th>\n",
       "      <th>observations</th>\n",
       "    </tr>\n",
       "  </thead>\n",
       "  <tbody>\n",
       "    <tr>\n",
       "      <th>1593</th>\n",
       "      <td>A</td>\n",
       "      <td>104</td>\n",
       "      <td>310155</td>\n",
       "    </tr>\n",
       "    <tr>\n",
       "      <th>3515</th>\n",
       "      <td>Moss</td>\n",
       "      <td>1144</td>\n",
       "      <td>167043</td>\n",
       "    </tr>\n",
       "    <tr>\n",
       "      <th>978</th>\n",
       "      <td>St</td>\n",
       "      <td>60</td>\n",
       "      <td>138754</td>\n",
       "    </tr>\n",
       "    <tr>\n",
       "      <th>225</th>\n",
       "      <td>Sedge</td>\n",
       "      <td>900</td>\n",
       "      <td>134629</td>\n",
       "    </tr>\n",
       "    <tr>\n",
       "      <th>8</th>\n",
       "      <td>Common</td>\n",
       "      <td>700</td>\n",
       "      <td>100139</td>\n",
       "    </tr>\n",
       "    <tr>\n",
       "      <th>1457</th>\n",
       "      <td>Gras</td>\n",
       "      <td>4</td>\n",
       "      <td>97919</td>\n",
       "    </tr>\n",
       "    <tr>\n",
       "      <th>57</th>\n",
       "      <td>Grass</td>\n",
       "      <td>568</td>\n",
       "      <td>97364</td>\n",
       "    </tr>\n",
       "    <tr>\n",
       "      <th>14994</th>\n",
       "      <td>Mount</td>\n",
       "      <td>12</td>\n",
       "      <td>85144</td>\n",
       "    </tr>\n",
       "    <tr>\n",
       "      <th>195</th>\n",
       "      <td>Mountain</td>\n",
       "      <td>504</td>\n",
       "      <td>83946</td>\n",
       "    </tr>\n",
       "    <tr>\n",
       "      <th>496</th>\n",
       "      <td>Blue</td>\n",
       "      <td>248</td>\n",
       "      <td>81212</td>\n",
       "    </tr>\n",
       "  </tbody>\n",
       "</table>\n",
       "</div>"
      ],
      "text/plain": [
       "           word  count  observations\n",
       "1593          A    104        310155\n",
       "3515       Moss   1144        167043\n",
       "978          St     60        138754\n",
       "225       Sedge    900        134629\n",
       "8        Common    700        100139\n",
       "1457       Gras      4         97919\n",
       "57        Grass    568         97364\n",
       "14994     Mount     12         85144\n",
       "195    Mountain    504         83946\n",
       "496        Blue    248         81212"
      ]
     },
     "execution_count": 47,
     "metadata": {},
     "output_type": "execute_result"
    }
   ],
   "source": [
    "plant_word_counts['observations'] = observations_by_word\n",
    "\n",
    "plant_word_counts.sort_values('observations', ascending=False).head(10)"
   ]
  },
  {
   "cell_type": "markdown",
   "metadata": {},
   "source": [
    "For plants, we have that `'Moss'` was the most observed in the four National Parks over the past seven days with 167,043 observations.  While `'A'` is higher than `'Moss'`, it is only a part of speech (indefinite article) and does not represent an actual plant type."
   ]
  },
  {
   "cell_type": "markdown",
   "metadata": {},
   "source": [
    "Let's compare the number of moss observations and the rate of observation among plants for each national park."
   ]
  },
  {
   "cell_type": "code",
   "execution_count": 48,
   "metadata": {
    "scrolled": true
   },
   "outputs": [
    {
     "data": {
      "text/html": [
       "<div>\n",
       "<style scoped>\n",
       "    .dataframe tbody tr th:only-of-type {\n",
       "        vertical-align: middle;\n",
       "    }\n",
       "\n",
       "    .dataframe tbody tr th {\n",
       "        vertical-align: top;\n",
       "    }\n",
       "\n",
       "    .dataframe thead th {\n",
       "        text-align: right;\n",
       "    }\n",
       "</style>\n",
       "<table border=\"1\" class=\"dataframe\">\n",
       "  <thead>\n",
       "    <tr style=\"text-align: right;\">\n",
       "      <th></th>\n",
       "      <th>park_name</th>\n",
       "      <th>moss_observations</th>\n",
       "      <th>non_moss_observations</th>\n",
       "      <th>plant_observations</th>\n",
       "      <th>percent_observations</th>\n",
       "    </tr>\n",
       "  </thead>\n",
       "  <tbody>\n",
       "    <tr>\n",
       "      <th>0</th>\n",
       "      <td>Bryce National Park</td>\n",
       "      <td>28960</td>\n",
       "      <td>447115</td>\n",
       "      <td>476075</td>\n",
       "      <td>6.083075</td>\n",
       "    </tr>\n",
       "    <tr>\n",
       "      <th>1</th>\n",
       "      <td>Great Smoky Mountains National Park</td>\n",
       "      <td>21638</td>\n",
       "      <td>336838</td>\n",
       "      <td>358476</td>\n",
       "      <td>6.036108</td>\n",
       "    </tr>\n",
       "    <tr>\n",
       "      <th>2</th>\n",
       "      <td>Yellowstone National Park</td>\n",
       "      <td>72783</td>\n",
       "      <td>1123165</td>\n",
       "      <td>1195948</td>\n",
       "      <td>6.085800</td>\n",
       "    </tr>\n",
       "    <tr>\n",
       "      <th>3</th>\n",
       "      <td>Yosemite National Park</td>\n",
       "      <td>43662</td>\n",
       "      <td>671582</td>\n",
       "      <td>715244</td>\n",
       "      <td>6.104490</td>\n",
       "    </tr>\n",
       "  </tbody>\n",
       "</table>\n",
       "</div>"
      ],
      "text/plain": [
       "                             park_name  moss_observations  \\\n",
       "0                  Bryce National Park              28960   \n",
       "1  Great Smoky Mountains National Park              21638   \n",
       "2            Yellowstone National Park              72783   \n",
       "3               Yosemite National Park              43662   \n",
       "\n",
       "   non_moss_observations  plant_observations  percent_observations  \n",
       "0                 447115              476075              6.083075  \n",
       "1                 336838              358476              6.036108  \n",
       "2                1123165             1195948              6.085800  \n",
       "3                 671582              715244              6.104490  "
      ]
     },
     "execution_count": 48,
     "metadata": {},
     "output_type": "execute_result"
    }
   ],
   "source": [
    "moss_observations = plant_observations[plant_observations.common_names.str.contains('Moss')].groupby('park_name').sum().reset_index()\n",
    "\n",
    "moss_observations['plant_observations'] = plant_observations.groupby('park_name').sum().reset_index().observations\n",
    "moss_observations['non_moss_observations'] = moss_observations.plant_observations - moss_observations.observations\n",
    "moss_observations['percent_observations'] = moss_observations.observations / moss_observations.plant_observations * 100\n",
    "\n",
    "moss_observations = moss_observations[['park_name', 'observations', 'non_moss_observations', 'plant_observations', 'percent_observations']]\n",
    "moss_observations = moss_observations.rename(columns={'observations': 'moss_observations'})\n",
    "\n",
    "moss_observations"
   ]
  },
  {
   "cell_type": "markdown",
   "metadata": {},
   "source": [
    "Yellowstone National Park has the highest number of moss observations with 1,195,948.  Yosemite National Park is the park with the highest observation rate at 6.10%."
   ]
  },
  {
   "cell_type": "code",
   "execution_count": 49,
   "metadata": {},
   "outputs": [
    {
     "data": {
      "image/png": "[encoded data removed]",
      "text/plain": [
       "<Figure size 1008x432 with 1 Axes>"
      ]
     },
     "metadata": {},
     "output_type": "display_data"
    }
   ],
   "source": [
    "sns.set(style='ticks', rc={\"axes.grid\":True})\n",
    "\n",
    "f, ax = plt.subplots(figsize=(14, 6))\n",
    "\n",
    "ax = sns.barplot(data=moss_observations, x='park_name', y='moss_observations', palette='Set1')\n",
    "\n",
    "ax.set_title('Number of Moss Observations by National Park', size=18)\n",
    "ax.set_xlabel('Park Name', size=14)\n",
    "ax.set_ylabel('Observations', size=14)\n",
    "\n",
    "plt.show()"
   ]
  },
  {
   "cell_type": "code",
   "execution_count": 50,
   "metadata": {},
   "outputs": [
    {
     "data": {
      "image/png": "[encoded data removed]",
      "text/plain": [
       "<Figure size 1008x432 with 1 Axes>"
      ]
     },
     "metadata": {},
     "output_type": "display_data"
    }
   ],
   "source": [
    "sns.set(style='ticks', rc={\"axes.grid\":True})\n",
    "\n",
    "f, ax = plt.subplots(figsize=(14, 6))\n",
    "\n",
    "ax = sns.barplot(data=moss_observations, x='park_name', y='percent_observations', palette='Set1')\n",
    "\n",
    "ax.set_title('Percent of Plant Observations as Moss by National Park', size=18)\n",
    "ax.set_xlabel('Park Name', size=14)\n",
    "ax.set_ylabel('Percent', size=14)\n",
    "\n",
    "ax.set_ylim(5.9, 6.2)\n",
    "\n",
    "plt.show()"
   ]
  },
  {
   "cell_type": "markdown",
   "metadata": {},
   "source": [
    "We can also perform a chi-squared test for independence on the moss data.\n",
    "\n",
    "This test is called `contingency4` and must be filled with the correct moss observation numbers for each National Park.\n",
    "\n",
    "H<sub>0</sub>:  There is **no association** between the national parks and the observation rate of moss.  \n",
    "H<sub>a</sub>:  There is an **association** between the national parks and the observation rate of moss.\n",
    "\n",
    "Here is the contingency table for this test:\n",
    "\n",
    "<table>\n",
    "    <tr>\n",
    "        <td></td>\n",
    "        <td>Moss<br>\n",
    "            Observations</td>\n",
    "        <td>Non-Moss<br>\n",
    "            Observations</td>\n",
    "    </tr>\n",
    "    <tr>\n",
    "        <td>Bryce National Park</td>\n",
    "        <td>28,960</td>\n",
    "        <td>447,115</td>\n",
    "    </tr>\n",
    "    <tr>\n",
    "        <td>Great Smoky Mountains National Park</td>\n",
    "        <td>21,638</td>\n",
    "        <td>336,838</td>\n",
    "    </tr>\n",
    "    <tr>\n",
    "        <td>Yellowstone National Park</td>\n",
    "        <td>72,783</td>\n",
    "        <td>1,123,165</td>\n",
    "    </tr>\n",
    "    <tr>\n",
    "        <td>Yosemite National Park</td>\n",
    "        <td>43,662</td>\n",
    "        <td>671,582</td>\n",
    "    </tr>\n",
    "</table>\n",
    "\n",
    "We set a significance level of 0.05 for this test."
   ]
  },
  {
   "cell_type": "code",
   "execution_count": 51,
   "metadata": {},
   "outputs": [
    {
     "name": "stdout",
     "output_type": "stream",
     "text": [
      "Chi-Squared: 1.971690798614678\n",
      "P-Value: 0.5783031271321715\n",
      "Degrees of Freedom: 3\n",
      "Expected Frequencies:\n",
      "[[  28963.01519297  447111.98480703]\n",
      " [  21808.63484601  336667.36515399]\n",
      " [  72757.99000999 1123190.00999001]\n",
      " [  43513.35995102  671730.64004898]]\n"
     ]
    }
   ],
   "source": [
    "contingency4 = [[28960, 447115],\n",
    "                [21638, 336838],\n",
    "                [72783, 1123165],\n",
    "                [43662, 671582]]\n",
    "\n",
    "chi2, pval, dof, exp = chi_square(contingency4)\n",
    "print('Chi-Squared: {}'.format(chi2))\n",
    "print('P-Value: {}'.format(pval))\n",
    "print('Degrees of Freedom: {}'.format(dof))\n",
    "print('Expected Frequencies:\\n{}'.format(exp))"
   ]
  },
  {
   "cell_type": "markdown",
   "metadata": {},
   "source": [
    "The p-value of 0.578 is much higher than the significance level of 0.05.  Thus, we cannot reject the null hypothesis and conclude that there is no significant relationship between the national parks and the observation rate of moss."
   ]
  },
  {
   "cell_type": "markdown",
   "metadata": {},
   "source": [
    "Finally, let's compare the total number of protected species and the protection rates in each park."
   ]
  },
  {
   "cell_type": "code",
   "execution_count": 52,
   "metadata": {
    "scrolled": true
   },
   "outputs": [
    {
     "data": {
      "text/html": [
       "<div>\n",
       "<style scoped>\n",
       "    .dataframe tbody tr th:only-of-type {\n",
       "        vertical-align: middle;\n",
       "    }\n",
       "\n",
       "    .dataframe tbody tr th {\n",
       "        vertical-align: top;\n",
       "    }\n",
       "\n",
       "    .dataframe thead th {\n",
       "        text-align: right;\n",
       "    }\n",
       "</style>\n",
       "<table border=\"1\" class=\"dataframe\">\n",
       "  <thead>\n",
       "    <tr style=\"text-align: right;\">\n",
       "      <th>conservation_status</th>\n",
       "      <th>park_name</th>\n",
       "      <th>Species of Concern</th>\n",
       "      <th>Threatened</th>\n",
       "      <th>Endangered</th>\n",
       "      <th>In Recovery</th>\n",
       "      <th>Protected</th>\n",
       "      <th>No Intervention</th>\n",
       "      <th>Total</th>\n",
       "      <th>Percent Protected</th>\n",
       "    </tr>\n",
       "  </thead>\n",
       "  <tbody>\n",
       "    <tr>\n",
       "      <th>0</th>\n",
       "      <td>Bryce National Park</td>\n",
       "      <td>14925</td>\n",
       "      <td>591</td>\n",
       "      <td>489</td>\n",
       "      <td>258</td>\n",
       "      <td>16263</td>\n",
       "      <td>559762</td>\n",
       "      <td>576025</td>\n",
       "      <td>2.823315</td>\n",
       "    </tr>\n",
       "    <tr>\n",
       "      <th>1</th>\n",
       "      <td>Great Smoky Mountains National Park</td>\n",
       "      <td>10314</td>\n",
       "      <td>440</td>\n",
       "      <td>334</td>\n",
       "      <td>189</td>\n",
       "      <td>11277</td>\n",
       "      <td>420543</td>\n",
       "      <td>431820</td>\n",
       "      <td>2.611505</td>\n",
       "    </tr>\n",
       "    <tr>\n",
       "      <th>2</th>\n",
       "      <td>Yellowstone National Park</td>\n",
       "      <td>35789</td>\n",
       "      <td>1459</td>\n",
       "      <td>1228</td>\n",
       "      <td>559</td>\n",
       "      <td>39035</td>\n",
       "      <td>1404527</td>\n",
       "      <td>1443562</td>\n",
       "      <td>2.704075</td>\n",
       "    </tr>\n",
       "    <tr>\n",
       "      <th>3</th>\n",
       "      <td>Yosemite National Park</td>\n",
       "      <td>21551</td>\n",
       "      <td>849</td>\n",
       "      <td>747</td>\n",
       "      <td>386</td>\n",
       "      <td>23533</td>\n",
       "      <td>839799</td>\n",
       "      <td>863332</td>\n",
       "      <td>2.725834</td>\n",
       "    </tr>\n",
       "  </tbody>\n",
       "</table>\n",
       "</div>"
      ],
      "text/plain": [
       "conservation_status                            park_name  Species of Concern  \\\n",
       "0                                    Bryce National Park               14925   \n",
       "1                    Great Smoky Mountains National Park               10314   \n",
       "2                              Yellowstone National Park               35789   \n",
       "3                                 Yosemite National Park               21551   \n",
       "\n",
       "conservation_status  Threatened  Endangered  In Recovery  Protected  \\\n",
       "0                           591         489          258      16263   \n",
       "1                           440         334          189      11277   \n",
       "2                          1459        1228          559      39035   \n",
       "3                           849         747          386      23533   \n",
       "\n",
       "conservation_status  No Intervention    Total  Percent Protected  \n",
       "0                             559762   576025           2.823315  \n",
       "1                             420543   431820           2.611505  \n",
       "2                            1404527  1443562           2.704075  \n",
       "3                             839799   863332           2.725834  "
      ]
     },
     "execution_count": 52,
     "metadata": {},
     "output_type": "execute_result"
    }
   ],
   "source": [
    "conservation_counts = observations.groupby(['park_name', 'conservation_status'])\\\n",
    "    .observations.sum()\\\n",
    "    .unstack()\\\n",
    "    .reset_index()\n",
    "\n",
    "protected_counts = observations.groupby(['park_name', 'is_protected'])\\\n",
    "    .observations.sum()\\\n",
    "    .unstack()\\\n",
    "    .reset_index()\n",
    "\n",
    "protected_counts.columns = ['park_name', 'Not Protected', 'Protected']\n",
    "\n",
    "conservation_counts = conservation_counts[['park_name', 'Species of Concern', 'Threatened', 'Endangered', 'In Recovery', 'No Intervention']]\n",
    "\n",
    "conservation_counts['Protected'] = protected_counts['Protected']\n",
    "conservation_counts['Total'] = conservation_counts['No Intervention'] + conservation_counts['Protected']\n",
    "conservation_counts['Percent Protected'] = conservation_counts['Protected'] / conservation_counts['Total'] * 100\n",
    "\n",
    "conservation_counts = conservation_counts[['park_name', 'Species of Concern', 'Threatened', 'Endangered', 'In Recovery', 'Protected', 'No Intervention', 'Total', 'Percent Protected']]\n",
    "\n",
    "conservation_counts"
   ]
  },
  {
   "cell_type": "markdown",
   "metadata": {},
   "source": [
    "Yellowstone National Park has the highest total number of protected species with 39,035.  Bryce National Park has the highest protection rate at 2.82% protected."
   ]
  },
  {
   "cell_type": "code",
   "execution_count": 53,
   "metadata": {},
   "outputs": [
    {
     "data": {
      "image/png": "[encoded data removed]",
      "text/plain": [
       "<Figure size 1008x432 with 1 Axes>"
      ]
     },
     "metadata": {},
     "output_type": "display_data"
    }
   ],
   "source": [
    "sns.set(style='ticks', rc={\"axes.grid\":True})\n",
    "\n",
    "f, ax = plt.subplots(figsize=(14, 6))\n",
    "\n",
    "ax = sns.barplot(data=conservation_counts, x='park_name', y='Protected', palette='Set1')\n",
    "\n",
    "ax.set_title('Observations of Protected Species by National Park', size=18)\n",
    "ax.set_xlabel('Park Name', size=14)\n",
    "ax.set_ylabel('Observations', size=14)\n",
    "\n",
    "plt.show()"
   ]
  },
  {
   "cell_type": "code",
   "execution_count": 54,
   "metadata": {},
   "outputs": [
    {
     "data": {
      "image/png": "[encoded data removed]",
      "text/plain": [
       "<Figure size 1008x432 with 1 Axes>"
      ]
     },
     "metadata": {},
     "output_type": "display_data"
    }
   ],
   "source": [
    "sns.set(style='ticks', rc={\"axes.grid\":True})\n",
    "\n",
    "f, ax = plt.subplots(figsize=(14, 6))\n",
    "\n",
    "ax = sns.barplot(data=conservation_counts, x='park_name', y='Percent Protected', palette='Set1')\n",
    "\n",
    "ax.set_title('Percent of Protected Species by National Park', size=18)\n",
    "ax.set_xlabel('Park Name', size=14)\n",
    "ax.set_ylabel('Percent', size=14)\n",
    "\n",
    "ax.set_ylim(2.5, 2.9)\n",
    "\n",
    "plt.show()"
   ]
  },
  {
   "cell_type": "markdown",
   "metadata": {},
   "source": [
    "Let's run one final chi-squared test for independence on the protection rates of all species.\n",
    "\n",
    "This test is called `contingency5` and must be filled with the correct protection numbers for each national park.\n",
    "\n",
    "H<sub>0</sub>:  There is **no association** between the national parks and the protection rate of all species.  \n",
    "H<sub>a</sub>:  There is an **association** between the national parks and the protection rate of all species.\n",
    "\n",
    "Here is the contingency table for this test:\n",
    "\n",
    "<table>\n",
    "    <tr>\n",
    "        <td></td>\n",
    "        <td><br>\n",
    "            Protected</td>\n",
    "        <td>No Intervention<br>\n",
    "            (Not Protected)</td>\n",
    "    </tr>\n",
    "    <tr>\n",
    "        <td>Bryce National Park</td>\n",
    "        <td>16,263</td>\n",
    "        <td>559,762</td>\n",
    "    </tr>\n",
    "    <tr>\n",
    "        <td>Great Smoky Mountains National Park</td>\n",
    "        <td>11,277</td>\n",
    "        <td>420,543</td>\n",
    "    </tr>\n",
    "    <tr>\n",
    "        <td>Yellowstone National Park</td>\n",
    "        <td>39,035</td>\n",
    "        <td>1,404,527</td>\n",
    "    </tr>\n",
    "    <tr>\n",
    "        <td>Yosemite National Park</td>\n",
    "        <td>23,533</td>\n",
    "        <td>839,799</td>\n",
    "    </tr>\n",
    "</table>\n",
    "\n",
    "We set a significance level of 0.05 for this test."
   ]
  },
  {
   "cell_type": "code",
   "execution_count": 55,
   "metadata": {
    "scrolled": true
   },
   "outputs": [
    {
     "name": "stdout",
     "output_type": "stream",
     "text": [
      "Chi-Squared: 43.93469839559798\n",
      "P-Value: 1.5581635239652477e-09\n",
      "Degrees of Freedom: 3\n",
      "Expected Frequencies:\n",
      "[[  15658.68706405  560366.31293595]\n",
      " [  11738.61246994  420081.38753006]\n",
      " [  39241.84821067 1404320.15178933]\n",
      " [  23468.85225534  839863.14774466]]\n"
     ]
    }
   ],
   "source": [
    "contingency5 = [[16263, 559762],\n",
    "                [11277, 420543],\n",
    "                [39035, 1404527],\n",
    "                [23533, 839799]]\n",
    "\n",
    "chi2, pval, dof, exp = chi_square(contingency5)\n",
    "print('Chi-Squared: {}'.format(chi2))\n",
    "print('P-Value: {}'.format(pval))\n",
    "print('Degrees of Freedom: {}'.format(dof))\n",
    "print('Expected Frequencies:\\n{}'.format(exp))"
   ]
  },
  {
   "cell_type": "markdown",
   "metadata": {},
   "source": [
    "From this test, we have a p-value of 1.56 x 10<sup>-9</sup>, which is well below the significance level of 0.05.  Therefore, we can reject the null hypothesis and accept the alternative that there is a significant association between the national parks and the protection rate of all species."
   ]
  },
  {
   "cell_type": "markdown",
   "metadata": {},
   "source": [
    "## Conclusions\n",
    "\n",
    "The project made several data visualizations and inferences about the various species in four of the National Parks within this dataset.\n",
    "\n",
    "This project answered the questions first posed in the project goals section:\n",
    "\n",
    "1. What is the distribution of conservation status for species?\n",
    "    - The vast majority of species did not have a conservation designation (5,633 of 5,824 = 96.7%).\n",
    "    - The vast majority of species with a conservation status were Species of Concern (161 of 191 = 84.3%)\n",
    "2. Are certain types of species more likely to be endangered?\n",
    "    - Mammals and Birds had the highest protection rates (~17% and ~15%, respectively).\n",
    "    - Mammals and Fish had the highest endangerment rates(~3.4% and ~2.4%, respectively).\n",
    "3. Are the differences between species and their conservation status significant?\n",
    "    - While Mammals and Birds did not have significant difference in conservation rates, Mammals and Reptiles exhibited a statistically significant difference.\n",
    "4. Which animal is most prevalent and what is their distribution amongst parks?\n",
    "    - Warblers were the most frequently observed animal at 33,394 observations.\n",
    "    - Yellowstone National Park had the most observations of warblers at 14,487, while Great Smoky Mountains National Park had the highest percentage of warblers observed among animals at 6.05%.\n",
    "    - Hypothesis testing concluded that there was no significant relationship between the national parks and the observation rate of warblers.\n",
    "5. Which plant is most prevalent, and what is its distribution amongst parks?\n",
    "    - Moss was the most frequently observed plant at 167,043 observations.\n",
    "    - Yellowstone National Park also had the most observations of moss at 72,783, while Yosemite National Park had the highest percentage of moss observed among plants at 6.10%.\n",
    "    - Hypothesis testing concluded that there was no significant relationship between the national parks and the observation rate of moss.\n",
    "6. Do certain parks have higher proportions of species with a conservation status?\n",
    "    - Yellowstone National Park had the highest number of protected species at 39,035, while Bryce National Park had the highest protection rate at 2.82%.\n",
    "    - Hypothesis testing concluded that the national parks and the protection rate of species were statistically dependent.  Therefore, no park had a significantly higher proportion of species with a conservation status."
   ]
  },
  {
   "cell_type": "markdown",
   "metadata": {},
   "source": [
    "## Further Research\n",
    "\n",
    "This dataset only included observations from the last 7 days, preventing any analysis of change over time.  It would be interesting to analyze whether there are any changes in conservation status of various species over time, and whether protection rates within parks change over time.\n",
    "\n",
    "Another useful piece of data that is missing is the area of each park.  While one can assume that Yellowstone National Park is much larger than the other parks (based on having larger observation numbers than other parks), having accurate area data would allow analysis of observation data in terms of that area.  Thus, one could measure the biodiversity of a park by area rather than by total observations.\n",
    "\n",
    "Lastly, if precise locations were recorded, one could also observe the spatial distribution of species and test whether these observations are spatially clustered.  In addition, one could visualize any territoriality of species (e.g., wolves)."
   ]
  }
 ],
 "metadata": {
  "kernelspec": {
   "display_name": "Python [default]",
   "language": "python",
   "name": "python3"
  },
  "language_info": {
   "codemirror_mode": {
    "name": "ipython",
    "version": 3
   },
   "file_extension": ".py",
   "mimetype": "text/x-python",
   "name": "python",
   "nbconvert_exporter": "python",
   "pygments_lexer": "ipython3",
   "version": "3.5.6"
  }
 },
 "nbformat": 4,
 "nbformat_minor": 4
}
